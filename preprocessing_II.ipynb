{
 "cells": [
  {
   "cell_type": "markdown",
   "metadata": {},
   "source": [
    "# Preprocessing Ethnicities\n",
    "\n",
    "This file takes the preprocessed ethnicity files and labels the dependent variables."
   ]
  },
  {
   "cell_type": "code",
   "execution_count": 99,
   "metadata": {},
   "outputs": [],
   "source": [
    "import pandas as pd\n",
    "import numpy as np"
   ]
  },
  {
   "cell_type": "markdown",
   "metadata": {},
   "source": [
    "## Determine most frequently occuring dissease: poisoning\n",
    "\n",
    "We want to label our data with 'has dissease x' or 'does not have dissease x' for our classification model. For the purpose of this research, what the model predicts is not really of importance. Therefore we decided to take the most occuring dissease, as this will give the model more data to train on.\n",
    "\n",
    "Side note: we can see from the output below that the most occuring hospitalizations include fractures and sequela (pathological condition resulting from dissease), which we do not really count as disseases in itself. Thus, poisoning seemed to be the most occuring dissease."
   ]
  },
  {
   "cell_type": "code",
   "execution_count": 100,
   "metadata": {},
   "outputs": [],
   "source": [
    "d_icd_diagnoses = pd.read_csv(\"mimic-iv-0.4/hosp/d_icd_diagnoses.csv.gz\")"
   ]
  },
  {
   "cell_type": "code",
   "execution_count": 101,
   "metadata": {},
   "outputs": [
    {
     "name": "stdout",
     "output_type": "stream",
     "text": [
      "of              77276\n",
      "encounter       36076\n",
      "fracture        32307\n",
      "with            23264\n",
      "subsequent      21894\n",
      "unspecified     21246\n",
      "for             17191\n",
      "initial         14261\n",
      "and             14000\n",
      "left            13412\n",
      "right           13238\n",
      "sequela         12122\n",
      "or              11583\n",
      "Other            9681\n",
      "other            8195\n",
      "in               8082\n",
      "open             6978\n",
      "Unspecified      6515\n",
      "healing          6068\n",
      "to               5671\n",
      "type             5419\n",
      "Nondisplaced     4998\n",
      "Displaced        4953\n",
      "by               4183\n",
      "lower            4043\n",
      "without          4029\n",
      "closed           3902\n",
      "injury           3688\n",
      "shaft            3435\n",
      "specified        3158\n",
      "at               3150\n",
      "delayed          3060\n",
      "routine          3032\n",
      "nonunion         3007\n",
      "I                2957\n",
      "II               2912\n",
      "body             2831\n",
      "injured          2784\n",
      "femur,           2768\n",
      "end              2756\n",
      "malunion         2662\n",
      "due              2588\n",
      "arm,             2581\n",
      "IIIC             2550\n",
      "IIIB,            2550\n",
      "IIIA,            2550\n",
      "degree           2546\n",
      "level,           2425\n",
      "upper            2412\n",
      "accident,        2360\n",
      "foreign          2319\n",
      "collision        2296\n",
      "Poisoning        2267\n",
      "effect           2239\n",
      "vehicle          1928\n",
      "Laceration       1870\n",
      "not              1846\n",
      "the              1715\n",
      "eye              1683\n",
      "Toxic            1673\n",
      "dtype: int64\n"
     ]
    }
   ],
   "source": [
    "s = d_icd_diagnoses['long_title'].str.split(expand=True).stack().value_counts()\n",
    "print (s.head(60))"
   ]
  },
  {
   "cell_type": "markdown",
   "metadata": {},
   "source": [
    "## Collect ICD codes for poisoning"
   ]
  },
  {
   "cell_type": "code",
   "execution_count": 102,
   "metadata": {},
   "outputs": [
    {
     "data": {
      "text/html": [
       "<div>\n",
       "<style scoped>\n",
       "    .dataframe tbody tr th:only-of-type {\n",
       "        vertical-align: middle;\n",
       "    }\n",
       "\n",
       "    .dataframe tbody tr th {\n",
       "        vertical-align: top;\n",
       "    }\n",
       "\n",
       "    .dataframe thead th {\n",
       "        text-align: right;\n",
       "    }\n",
       "</style>\n",
       "<table border=\"1\" class=\"dataframe\">\n",
       "  <thead>\n",
       "    <tr style=\"text-align: right;\">\n",
       "      <th></th>\n",
       "      <th>icd_code</th>\n",
       "      <th>icd_version</th>\n",
       "      <th>long_title</th>\n",
       "    </tr>\n",
       "  </thead>\n",
       "  <tbody>\n",
       "    <tr>\n",
       "      <th>24</th>\n",
       "      <td>0050</td>\n",
       "      <td>9</td>\n",
       "      <td>Staphylococcal food poisoning</td>\n",
       "    </tr>\n",
       "    <tr>\n",
       "      <th>25</th>\n",
       "      <td>0051</td>\n",
       "      <td>9</td>\n",
       "      <td>Botulism food poisoning</td>\n",
       "    </tr>\n",
       "    <tr>\n",
       "      <th>26</th>\n",
       "      <td>0052</td>\n",
       "      <td>9</td>\n",
       "      <td>Food poisoning due to Clostridium perfringens ...</td>\n",
       "    </tr>\n",
       "    <tr>\n",
       "      <th>27</th>\n",
       "      <td>0053</td>\n",
       "      <td>9</td>\n",
       "      <td>Food poisoning due to other Clostridia</td>\n",
       "    </tr>\n",
       "    <tr>\n",
       "      <th>28</th>\n",
       "      <td>0054</td>\n",
       "      <td>9</td>\n",
       "      <td>Food poisoning due to Vibrio parahaemolyticus</td>\n",
       "    </tr>\n",
       "    <tr>\n",
       "      <th>...</th>\n",
       "      <td>...</td>\n",
       "      <td>...</td>\n",
       "      <td>...</td>\n",
       "    </tr>\n",
       "    <tr>\n",
       "      <th>74591</th>\n",
       "      <td>T61784A</td>\n",
       "      <td>10</td>\n",
       "      <td>Other shellfish poisoning, undetermined, initi...</td>\n",
       "    </tr>\n",
       "    <tr>\n",
       "      <th>74592</th>\n",
       "      <td>T61784D</td>\n",
       "      <td>10</td>\n",
       "      <td>Other shellfish poisoning, undetermined, subse...</td>\n",
       "    </tr>\n",
       "    <tr>\n",
       "      <th>74593</th>\n",
       "      <td>T61784S</td>\n",
       "      <td>10</td>\n",
       "      <td>Other shellfish poisoning, undetermined, sequela</td>\n",
       "    </tr>\n",
       "    <tr>\n",
       "      <th>78199</th>\n",
       "      <td>V156</td>\n",
       "      <td>9</td>\n",
       "      <td>Personal history of poisoning, presenting haza...</td>\n",
       "    </tr>\n",
       "    <tr>\n",
       "      <th>80991</th>\n",
       "      <td>V825</td>\n",
       "      <td>9</td>\n",
       "      <td>Screening for chemical poisoning and other con...</td>\n",
       "    </tr>\n",
       "  </tbody>\n",
       "</table>\n",
       "<p>2479 rows × 3 columns</p>\n",
       "</div>"
      ],
      "text/plain": [
       "      icd_code  icd_version                                         long_title\n",
       "24     0050               9                      Staphylococcal food poisoning\n",
       "25     0051               9                            Botulism food poisoning\n",
       "26     0052               9  Food poisoning due to Clostridium perfringens ...\n",
       "27     0053               9             Food poisoning due to other Clostridia\n",
       "28     0054               9      Food poisoning due to Vibrio parahaemolyticus\n",
       "...        ...          ...                                                ...\n",
       "74591  T61784A           10  Other shellfish poisoning, undetermined, initi...\n",
       "74592  T61784D           10  Other shellfish poisoning, undetermined, subse...\n",
       "74593  T61784S           10   Other shellfish poisoning, undetermined, sequela\n",
       "78199  V156               9  Personal history of poisoning, presenting haza...\n",
       "80991  V825               9  Screening for chemical poisoning and other con...\n",
       "\n",
       "[2479 rows x 3 columns]"
      ]
     },
     "execution_count": 102,
     "metadata": {},
     "output_type": "execute_result"
    }
   ],
   "source": [
    "poisoning = d_icd_diagnoses[d_icd_diagnoses['long_title'].str.contains('oisoning')]\n",
    "poisononing_icds = poisoning['icd_code'].unique()\n",
    "poisoning"
   ]
  },
  {
   "cell_type": "markdown",
   "metadata": {},
   "source": [
    "## Add labels to ethnicity files\n",
    "\n",
    "Adds column 'is_poisened' with True if the ICD code is contained by the poisoning_icds, and False otherwise. The icd_code column is removed afterwards, otherwise the model could use the pattern in the icd_codes to determine the value of is_poisned."
   ]
  },
  {
   "cell_type": "code",
   "execution_count": 103,
   "metadata": {},
   "outputs": [],
   "source": [
    "def add_labels (df_name):\n",
    "    # import data\n",
    "    print('Importing ', df_name)\n",
    "    df = pd.read_csv('data/preprocessing_I/' + df_name + '.csv')\n",
    "\n",
    "    # add is_poisened column\n",
    "    print(\"Adding labels for \", df_name)\n",
    "    df['is_poisoned'] = False\n",
    "    for row in df.itertuples():\n",
    "        # filter nans\n",
    "        if type(row.icd_code) != float:\n",
    "            for icd in row.icd_code:\n",
    "                if icd in poisononing_icds:\n",
    "                    df.at[row.Index, 'is_poisoned'] = True\n",
    "\n",
    "    # remove icd column\n",
    "    df = df.drop(columns='icd_code')\n",
    "\n",
    "    # save csv\n",
    "    print('Saving .csv for ', df_name)\n",
    "    df.to_csv(\"data/preprocessing_II/\" + df_name + \".csv\")"
   ]
  },
  {
   "cell_type": "code",
   "execution_count": 104,
   "metadata": {},
   "outputs": [
    {
     "name": "stdout",
     "output_type": "stream",
     "text": [
      "Importing  unknown\n",
      "Adding labels for  unknown\n",
      "Saving .csv for  unknown\n",
      "Importing  white\n",
      "Adding labels for  white\n",
      "Saving .csv for  white\n",
      "Importing  other\n",
      "Adding labels for  other\n",
      "Saving .csv for  other\n",
      "Importing  asian\n",
      "Adding labels for  asian\n",
      "Saving .csv for  asian\n",
      "Importing  hispanic_latino\n",
      "Adding labels for  hispanic_latino\n",
      "Saving .csv for  hispanic_latino\n",
      "Importing  black_african_american\n",
      "Adding labels for  black_african_american\n",
      "Saving .csv for  black_african_american\n",
      "Importing  unable_to_obtain\n",
      "Adding labels for  unable_to_obtain\n",
      "Saving .csv for  unable_to_obtain\n",
      "Importing  american_indian_alaska_native\n",
      "Adding labels for  american_indian_alaska_native\n",
      "Saving .csv for  american_indian_alaska_native\n"
     ]
    }
   ],
   "source": [
    "ethnic_group_names = ['unknown', 'white', 'other', 'asian', 'hispanic_latino', 'black_african_american', 'unable_to_obtain', 'american_indian_alaska_native']\n",
    "\n",
    "for name in ethnic_group_names:\n",
    "    add_labels(name)"
   ]
  }
 ],
 "metadata": {
  "kernelspec": {
   "display_name": "Python 3.10.6 ('sklearn-env')",
   "language": "python",
   "name": "python3"
  },
  "language_info": {
   "codemirror_mode": {
    "name": "ipython",
    "version": 3
   },
   "file_extension": ".py",
   "mimetype": "text/x-python",
   "name": "python",
   "nbconvert_exporter": "python",
   "pygments_lexer": "ipython3",
   "version": "3.10.6"
  },
  "orig_nbformat": 4,
  "vscode": {
   "interpreter": {
    "hash": "34e7f5b862476ca5b132d6fa3a551e06a58745cd7626854c77bc546bf08a4906"
   }
  }
 },
 "nbformat": 4,
 "nbformat_minor": 2
}
