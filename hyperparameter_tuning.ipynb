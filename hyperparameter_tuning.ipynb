{
 "cells": [
  {
   "cell_type": "markdown",
   "metadata": {},
   "source": [
    "# Hyperparameter Tuning\n",
    "\n",
    "This files tests different parameters for the Random Forest classifier, and assess where the validation data reaches a maximum without overfitting."
   ]
  },
  {
   "cell_type": "code",
   "execution_count": null,
   "metadata": {},
   "outputs": [],
   "source": [
    "import pandas as pd\n",
    "from sklearn.ensemble import RandomForestClassifier\n",
    "from sklearn.model_selection import train_test_split\n",
    "from sklearn.metrics import accuracy_score\n",
    "import matplotlib.pyplot as plt"
   ]
  },
  {
   "cell_type": "code",
   "execution_count": null,
   "metadata": {},
   "outputs": [],
   "source": [
    "def tune (name):\n",
    "    # Initiate empty df to store results\n",
    "    results = pd.DataFrame({\"max_depth\":[], \"n_estimators\":[], \"accuracy\":[]})\n",
    "    # \n",
    "    # TODO: CHANGE THIS LATER TO PREPROCESSING_IV\n",
    "    # THEN YOU ALSO DONT HAVE TO SPLIT TRAIN/TEST ANYMORE\n",
    "    # \n",
    "    # import data\n",
    "    df = pd.read_csv('data/preprocessing_II/' + name +'.csv')\n",
    "    df['admittime'] = pd.to_numeric(pd.to_datetime(df['admittime']))\n",
    "    df['icd_code_count'] = df['icd_code_count'].fillna(0)\n",
    "    df['icd_code_count'] = df['icd_code_count'].astype(int)\n",
    "    df['emar_count'] = df['emar_count'].fillna(0)\n",
    "    df['emar_count'] = df['emar_count'].astype(int)\n",
    "    df['lab_count'] = df['lab_count'].fillna(0)\n",
    "    df['lab_count'] = df['lab_count'].astype(int)\n",
    "\n",
    "    # split labels and features\n",
    "    X = df[['hadm_id', 'subject_id', 'admittime', 'anchor_age', 'anchor_year', 'icd_code_count', 'emar_count', 'lab_count']]\n",
    "    y = df['has_kidney_issue']\n",
    "\n",
    "    # split train and test\n",
    "    X_train, X_test, y_train, y_test = train_test_split(X, y, test_size=0.33, random_state=42)\n",
    "\n",
    "    # try different values for max_depth of the individual trees\n",
    "    for depth in [6, 8, 10, 12, 14, 16, 18, 20]:\n",
    "        # try different values for the number of trees in a forest\n",
    "        for estimator in [10, 50, 100, 150, 200, 250, 300]:\n",
    "            # train classifier\n",
    "            clf = RandomForestClassifier(n_estimators=estimator, max_depth=depth, random_state=42)\n",
    "            clf.fit(X_train, y_train)\n",
    "            # predict labels\n",
    "            y_pred = clf.predict(X_test)\n",
    "            # calculate accuracy\n",
    "            accuracy = accuracy_score(y_test, y_pred)\n",
    "            # append results to df\n",
    "            new_result = pd.DataFrame({\"max_depth\":depth, \"n_estimators\":estimator, \"accuracy\":accuracy}, index=[0])\n",
    "            results = pd.concat([results, new_result])\n",
    "    \n",
    "    # reset indexing\n",
    "    results = results.reset_index(drop=True)\n",
    "\n",
    "    # return\n",
    "    return results"
   ]
  },
  {
   "cell_type": "code",
   "execution_count": null,
   "metadata": {},
   "outputs": [],
   "source": [
    "unknown = tune('unknown')\n",
    "print(\"Highest accuracy:\\n\", white.loc[unknown['accuracy'].idxmax()])\n",
    "ax = plt.axes(projection='3d')\n",
    "ax.plot_trisurf(unknown[\"max_depth\"], unknown[\"n_estimators\"], unknown[\"accuracy\"], cmap='viridis', edgecolor='none')"
   ]
  },
  {
   "cell_type": "code",
   "execution_count": null,
   "metadata": {},
   "outputs": [],
   "source": [
    "white = tune('white')\n",
    "print(\"Highest accuracy:\\n\", white.loc[white['accuracy'].idxmax()])\n",
    "ax = plt.axes(projection='3d')\n",
    "ax.plot_trisurf(white[\"max_depth\"], white[\"n_estimators\"], white[\"accuracy\"], cmap='viridis', edgecolor='none')"
   ]
  },
  {
   "cell_type": "code",
   "execution_count": null,
   "metadata": {},
   "outputs": [],
   "source": [
    "other = tune('other')\n",
    "print(\"Highest accuracy:\\n\", white.loc[other['accuracy'].idxmax()])\n",
    "ax = plt.axes(projection='3d')\n",
    "ax.plot_trisurf(other[\"max_depth\"], other[\"n_estimators\"], other[\"accuracy\"], cmap='viridis', edgecolor='none')"
   ]
  },
  {
   "cell_type": "code",
   "execution_count": null,
   "metadata": {},
   "outputs": [],
   "source": [
    "asian = tune('asian')\n",
    "print(\"Highest accuracy:\\n\", white.loc[asian['accuracy'].idxmax()])\n",
    "ax = plt.axes(projection='3d')\n",
    "ax.plot_trisurf(asian[\"max_depth\"], asian[\"n_estimators\"], asian[\"accuracy\"], cmap='viridis', edgecolor='none')"
   ]
  },
  {
   "cell_type": "code",
   "execution_count": null,
   "metadata": {},
   "outputs": [],
   "source": [
    "hispanic_latino = tune('hispanic_latino')\n",
    "print(\"Highest accuracy:\\n\", white.loc[hispanic_latino['accuracy'].idxmax()])\n",
    "ax = plt.axes(projection='3d')\n",
    "ax.plot_trisurf(hispanic_latino[\"max_depth\"], hispanic_latino[\"n_estimators\"], hispanic_latino[\"accuracy\"], cmap='viridis', edgecolor='none')"
   ]
  },
  {
   "cell_type": "code",
   "execution_count": null,
   "metadata": {},
   "outputs": [],
   "source": [
    "black_african_american = tune('black_african_american')\n",
    "print(\"Highest accuracy:\\n\", white.loc[black_african_american['accuracy'].idxmax()])\n",
    "ax = plt.axes(projection='3d')\n",
    "ax.plot_trisurf(black_african_american[\"max_depth\"], black_african_american[\"n_estimators\"], black_african_american[\"accuracy\"], cmap='viridis', edgecolor='none')"
   ]
  },
  {
   "cell_type": "code",
   "execution_count": null,
   "metadata": {},
   "outputs": [],
   "source": [
    "unable_to_obtain = tune('unable_to_obtain')\n",
    "print(\"Highest accuracy:\\n\", white.loc[unable_to_obtain['accuracy'].idxmax()])\n",
    "ax = plt.axes(projection='3d')\n",
    "ax.plot_trisurf(unable_to_obtain[\"max_depth\"], unable_to_obtain[\"n_estimators\"], unable_to_obtain[\"accuracy\"], cmap='viridis', edgecolor='none')"
   ]
  },
  {
   "cell_type": "code",
   "execution_count": null,
   "metadata": {},
   "outputs": [],
   "source": [
    "american_indian_alaska_native = tune('american_indian_alaska_native')\n",
    "print(\"Highest accuracy:\\n\", white.loc[american_indian_alaska_native['accuracy'].idxmax()])\n",
    "ax = plt.axes(projection='3d')\n",
    "ax.plot_trisurf(american_indian_alaska_native[\"max_depth\"], american_indian_alaska_native[\"n_estimators\"], american_indian_alaska_native[\"accuracy\"], cmap='viridis', edgecolor='none')"
   ]
  }
 ],
 "metadata": {
  "kernelspec": {
   "display_name": "Python 3.10.6 ('sklearn-env')",
   "language": "python",
   "name": "python3"
  },
  "language_info": {
   "codemirror_mode": {
    "name": "ipython",
    "version": 3
   },
   "file_extension": ".py",
   "mimetype": "text/x-python",
   "name": "python",
   "nbconvert_exporter": "python",
   "pygments_lexer": "ipython3",
   "version": "3.10.6"
  },
  "orig_nbformat": 4,
  "vscode": {
   "interpreter": {
    "hash": "34e7f5b862476ca5b132d6fa3a551e06a58745cd7626854c77bc546bf08a4906"
   }
  }
 },
 "nbformat": 4,
 "nbformat_minor": 2
}
