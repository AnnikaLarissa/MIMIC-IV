{
 "cells": [
  {
   "cell_type": "markdown",
   "metadata": {
    "pycharm": {
     "name": "#%% md\n"
    }
   },
   "source": [
    "# Split train, validate and test"
   ]
  },
  {
   "cell_type": "code",
   "execution_count": 4,
   "metadata": {
    "pycharm": {
     "name": "#%%\n"
    }
   },
   "outputs": [],
   "source": [
    "import pandas as pd\n",
    "import numpy as np"
   ]
  },
  {
   "cell_type": "markdown",
   "metadata": {
    "pycharm": {
     "name": "#%% md\n"
    }
   },
   "source": [
    "## Sort based on time\n",
    "\n",
    "We want to train on previous patients and make predictions for future patients. Because it is a large dataset, we use 80% for training, 10% for validation and 10% for testing"
   ]
  },
  {
   "cell_type": "code",
   "execution_count": 5,
   "metadata": {
    "pycharm": {
     "name": "#%%\n"
    }
   },
   "outputs": [],
   "source": [
    "def sort_and_split (df_name):\n",
    "    # import data\n",
    "    print('Importing ', df_name)\n",
    "    df = pd.read_csv('data/preprocessing_III/' + df_name + '.csv', \n",
    "                    parse_dates=['admittime', 'edregtime', 'emar_charttime', 'lab_charttime'])\n",
    "\n",
    "    # sort\n",
    "    print(\"Sorting \", df_name)\n",
    "    df = df.sort_values(by='admittime')\n",
    "    df = df.reset_index(drop=True)\n",
    "\n",
    "    # index for the first 80%\n",
    "    first_80_percent = int(np.around(len(df)*0.8))\n",
    "    # index for the first 90%\n",
    "    first_90_percent = int(np.around(len(df)*0.9)) \n",
    "\n",
    "    # split\n",
    "    print(\"Splitting \", df_name)\n",
    "    # train is 0% to 80%\n",
    "    train = df.iloc[: first_80_percent]\n",
    "    # validate is 80% to 90%\n",
    "    validate = df.iloc[first_80_percent : first_90_percent]\n",
    "    # test is 90% to 100%\n",
    "    test = df.iloc[first_90_percent :]\n",
    "\n",
    "    print(\"Saving train, validate and test for \", df_name)\n",
    "    train.to_csv(\"data/preprocessing_IV/\" + df_name + \"_train.csv\", index=False)\n",
    "    validate.to_csv(\"data/preprocessing_IV/\" + df_name + \"_validate.csv\", index=False)\n",
    "    test.to_csv(\"data/preprocessing_IV/\" + df_name + \"_test.csv\", index=False)\n",
    "    \n",
    "    "
   ]
  },
  {
   "cell_type": "code",
   "execution_count": 6,
   "metadata": {
    "pycharm": {
     "name": "#%%\n"
    }
   },
   "outputs": [
    {
     "name": "stdout",
     "output_type": "stream",
     "text": [
      "Importing  unknown\n",
      "Sorting  unknown\n",
      "Splitting  unknown\n",
      "Saving train, validate and test for  unknown\n",
      "Importing  white\n",
      "Sorting  white\n",
      "Splitting  white\n",
      "Saving train, validate and test for  white\n",
      "Importing  other\n",
      "Sorting  other\n",
      "Splitting  other\n",
      "Saving train, validate and test for  other\n",
      "Importing  asian\n",
      "Sorting  asian\n",
      "Splitting  asian\n",
      "Saving train, validate and test for  asian\n",
      "Importing  hispanic_latino\n",
      "Sorting  hispanic_latino\n",
      "Splitting  hispanic_latino\n",
      "Saving train, validate and test for  hispanic_latino\n",
      "Importing  black_african_american\n",
      "Sorting  black_african_american\n",
      "Splitting  black_african_american\n",
      "Saving train, validate and test for  black_african_american\n",
      "Importing  unable_to_obtain\n",
      "Sorting  unable_to_obtain\n",
      "Splitting  unable_to_obtain\n",
      "Saving train, validate and test for  unable_to_obtain\n",
      "Importing  american_indian_alaska_native\n",
      "Sorting  american_indian_alaska_native\n",
      "Splitting  american_indian_alaska_native\n",
      "Saving train, validate and test for  american_indian_alaska_native\n"
     ]
    }
   ],
   "source": [
    "ethnic_group_names = ['unknown', 'white', 'other', 'asian', 'hispanic_latino', 'black_african_american', 'unable_to_obtain', 'american_indian_alaska_native']\n",
    "\n",
    "for name in ethnic_group_names:\n",
    "    sort_and_split(name)\n"
   ]
  }
 ],
 "metadata": {
  "kernelspec": {
   "display_name": "Python 3.10.6 ('sklearn-env')",
   "language": "python",
   "name": "python3"
  },
  "language_info": {
   "codemirror_mode": {
    "name": "ipython",
    "version": 3
   },
   "file_extension": ".py",
   "mimetype": "text/x-python",
   "name": "python",
   "nbconvert_exporter": "python",
   "pygments_lexer": "ipython3",
   "version": "3.10.6"
  },
  "orig_nbformat": 4,
  "vscode": {
   "interpreter": {
    "hash": "34e7f5b862476ca5b132d6fa3a551e06a58745cd7626854c77bc546bf08a4906"
   }
  }
 },
 "nbformat": 4,
 "nbformat_minor": 2
}