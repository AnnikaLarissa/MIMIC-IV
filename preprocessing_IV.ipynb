{
 "cells": [
  {
   "cell_type": "markdown",
   "metadata": {
    "pycharm": {
     "name": "#%% md\n"
    }
   },
   "source": [
    "# Split train, validate and test"
   ]
  },
  {
   "cell_type": "code",
   "execution_count": 1,
   "metadata": {
    "pycharm": {
     "name": "#%%\n"
    }
   },
   "outputs": [],
   "source": [
    "import pandas as pd\n",
    "import numpy as np"
   ]
  },
  {
   "cell_type": "markdown",
   "metadata": {
    "pycharm": {
     "name": "#%% md\n"
    }
   },
   "source": [
    "## Sort based on time\n",
    "\n",
    "We want to train on previous patients and make predictions for future patients. Because it is a large dataset, we use 80% for training, 10% for validation and 10% for testing"
   ]
  },
  {
   "cell_type": "code",
   "execution_count": 4,
   "metadata": {
    "pycharm": {
     "name": "#%%\n"
    }
   },
   "outputs": [],
   "source": [
    "def sort_and_split (df_name):\n",
    "    # import data\n",
    "    print('Importing ', df_name)\n",
    "    df = pd.read_csv('data/preprocessing_III/' + df_name + '.csv')\n",
    "    # print(df.dtypes)\n",
    "\n",
    "    # sort\n",
    "    print(\"Sorting \", df_name)\n",
    "    df['admittime'] = pd.to_datetime(df['admittime'])\n",
    "    df = df.sort_values(by='admittime')\n",
    "    df = df.reset_index(drop=True)\n",
    "    # print(df.dtypes)\n",
    "\n",
    "    # index for the first 80%\n",
    "    first_80_percent = int(np.around(len(df)*0.8))\n",
    "    # index for the first 90%\n",
    "    first_90_percent = int(np.around(len(df)*0.9)) \n",
    "\n",
    "    # split\n",
    "    print(\"Splitting \", df_name)\n",
    "    # train is 0% to 80%\n",
    "    train = df.iloc[: first_80_percent]\n",
    "    # validate is 80% to 90%\n",
    "    validate = df.iloc[first_80_percent : first_90_percent]\n",
    "    # test is 90% to 100%\n",
    "    test = df.iloc[first_90_percent :]\n",
    "\n",
    "    # print(train.dtypes)\n",
    "\n",
    "    print(\"Saving train, validate and test for \", df_name)\n",
    "    train.to_csv(\"data/preprocessing_IV/\" + df_name + \"_train.csv\", index=False)\n",
    "    validate.to_csv(\"data/preprocessing_IV/\" + df_name + \"_validate.csv\", index=False)\n",
    "    test.to_csv(\"data/preprocessing_IV/\" + df_name + \"_test.csv\", index=False)\n",
    "    \n",
    "    "
   ]
  },
  {
   "cell_type": "code",
   "execution_count": 5,
   "metadata": {
    "pycharm": {
     "name": "#%%\n"
    }
   },
   "outputs": [
    {
     "name": "stdout",
     "output_type": "stream",
     "text": [
      "Importing  unknown\n",
      "Unnamed: 0                                                    int64\n",
      "hadm_id                                                       int64\n",
      "subject_id                                                    int64\n",
      "admittime                                                    object\n",
      "edregtime                                                    object\n",
      "anchor_age                                                    int64\n",
      "anchor_year                                                   int64\n",
      "icd_code_count                                                int64\n",
      "emar_count                                                    int64\n",
      "emar_charttime                                               object\n",
      "lab_count                                                     int64\n",
      "lab_charttime                                                object\n",
      "has_kidney_issue                                               bool\n",
      "admission_type_urgent                                          bool\n",
      "admission_type_direct_emer.                                    bool\n",
      "admission_type_ew_emer.                                        bool\n",
      "admission_type_observation_admit                               bool\n",
      "admission_type_surgical_same_day_admission                     bool\n",
      "admission_type_eu_observation                                  bool\n",
      "admission_type_ambulatory_observation                          bool\n",
      "admission_type_elective                                        bool\n",
      "admission_type_direct_observation                              bool\n",
      "admission_location_unknown                                     bool\n",
      "admission_location_ambulatory_surgery_transfer                 bool\n",
      "admission_location_physician_referral                          bool\n",
      "admission_location_pacu                                        bool\n",
      "admission_location_procedure_site                              bool\n",
      "admission_location_walk-in/self_referral                       bool\n",
      "admission_location_emergency_room                              bool\n",
      "admission_location_transfer_from_skilled_nursing_facility      bool\n",
      "admission_location_information_not_available                   bool\n",
      "admission_location_internal_transfer_to_or_from_psych          bool\n",
      "admission_location_clinic_referral                             bool\n",
      "admission_location_transfer_from_hospital                      bool\n",
      "insurance_medicare                                             bool\n",
      "insurance_other                                                bool\n",
      "insurance_medicaid                                             bool\n",
      "marital_status_unknown                                         bool\n",
      "marital_status_widowed                                         bool\n",
      "marital_status_single                                          bool\n",
      "marital_status_married                                         bool\n",
      "marital_status_divorced                                        bool\n",
      "gender_f                                                       bool\n",
      "gender_m                                                       bool\n",
      "emar_medicine_count                                           int64\n",
      "emar_contains_insulin                                          bool\n",
      "emar_contains_ace_inhabitors                                   bool\n",
      "emar_contains_calcium_blockers                                 bool\n",
      "emar_contains_not_given                                        bool\n",
      "emar_contains_not_flushed                                      bool\n",
      "emar_contains_stopped                                          bool\n",
      "emar_contains_not_started                                      bool\n",
      "abnormal_lab_flags                                            int64\n",
      "has_lab_comment                                                bool\n",
      "lab_priority_stat                                              bool\n",
      "lab_priority_routine                                           bool\n",
      "dtype: object\n",
      "Sorting  unknown\n",
      "Unnamed: 0                                                            int64\n",
      "hadm_id                                                               int64\n",
      "subject_id                                                            int64\n",
      "admittime                                                    datetime64[ns]\n",
      "edregtime                                                            object\n",
      "anchor_age                                                            int64\n",
      "anchor_year                                                           int64\n",
      "icd_code_count                                                        int64\n",
      "emar_count                                                            int64\n",
      "emar_charttime                                                       object\n",
      "lab_count                                                             int64\n",
      "lab_charttime                                                        object\n",
      "has_kidney_issue                                                       bool\n",
      "admission_type_urgent                                                  bool\n",
      "admission_type_direct_emer.                                            bool\n",
      "admission_type_ew_emer.                                                bool\n",
      "admission_type_observation_admit                                       bool\n",
      "admission_type_surgical_same_day_admission                             bool\n",
      "admission_type_eu_observation                                          bool\n",
      "admission_type_ambulatory_observation                                  bool\n",
      "admission_type_elective                                                bool\n",
      "admission_type_direct_observation                                      bool\n",
      "admission_location_unknown                                             bool\n",
      "admission_location_ambulatory_surgery_transfer                         bool\n",
      "admission_location_physician_referral                                  bool\n",
      "admission_location_pacu                                                bool\n",
      "admission_location_procedure_site                                      bool\n",
      "admission_location_walk-in/self_referral                               bool\n",
      "admission_location_emergency_room                                      bool\n",
      "admission_location_transfer_from_skilled_nursing_facility              bool\n",
      "admission_location_information_not_available                           bool\n",
      "admission_location_internal_transfer_to_or_from_psych                  bool\n",
      "admission_location_clinic_referral                                     bool\n",
      "admission_location_transfer_from_hospital                              bool\n",
      "insurance_medicare                                                     bool\n",
      "insurance_other                                                        bool\n",
      "insurance_medicaid                                                     bool\n",
      "marital_status_unknown                                                 bool\n",
      "marital_status_widowed                                                 bool\n",
      "marital_status_single                                                  bool\n",
      "marital_status_married                                                 bool\n",
      "marital_status_divorced                                                bool\n",
      "gender_f                                                               bool\n",
      "gender_m                                                               bool\n",
      "emar_medicine_count                                                   int64\n",
      "emar_contains_insulin                                                  bool\n",
      "emar_contains_ace_inhabitors                                           bool\n",
      "emar_contains_calcium_blockers                                         bool\n",
      "emar_contains_not_given                                                bool\n",
      "emar_contains_not_flushed                                              bool\n",
      "emar_contains_stopped                                                  bool\n",
      "emar_contains_not_started                                              bool\n",
      "abnormal_lab_flags                                                    int64\n",
      "has_lab_comment                                                        bool\n",
      "lab_priority_stat                                                      bool\n",
      "lab_priority_routine                                                   bool\n",
      "dtype: object\n",
      "Splitting  unknown\n",
      "Unnamed: 0                                                            int64\n",
      "hadm_id                                                               int64\n",
      "subject_id                                                            int64\n",
      "admittime                                                    datetime64[ns]\n",
      "edregtime                                                            object\n",
      "anchor_age                                                            int64\n",
      "anchor_year                                                           int64\n",
      "icd_code_count                                                        int64\n",
      "emar_count                                                            int64\n",
      "emar_charttime                                                       object\n",
      "lab_count                                                             int64\n",
      "lab_charttime                                                        object\n",
      "has_kidney_issue                                                       bool\n",
      "admission_type_urgent                                                  bool\n",
      "admission_type_direct_emer.                                            bool\n",
      "admission_type_ew_emer.                                                bool\n",
      "admission_type_observation_admit                                       bool\n",
      "admission_type_surgical_same_day_admission                             bool\n",
      "admission_type_eu_observation                                          bool\n",
      "admission_type_ambulatory_observation                                  bool\n",
      "admission_type_elective                                                bool\n",
      "admission_type_direct_observation                                      bool\n",
      "admission_location_unknown                                             bool\n",
      "admission_location_ambulatory_surgery_transfer                         bool\n",
      "admission_location_physician_referral                                  bool\n",
      "admission_location_pacu                                                bool\n",
      "admission_location_procedure_site                                      bool\n",
      "admission_location_walk-in/self_referral                               bool\n",
      "admission_location_emergency_room                                      bool\n",
      "admission_location_transfer_from_skilled_nursing_facility              bool\n",
      "admission_location_information_not_available                           bool\n",
      "admission_location_internal_transfer_to_or_from_psych                  bool\n",
      "admission_location_clinic_referral                                     bool\n",
      "admission_location_transfer_from_hospital                              bool\n",
      "insurance_medicare                                                     bool\n",
      "insurance_other                                                        bool\n",
      "insurance_medicaid                                                     bool\n",
      "marital_status_unknown                                                 bool\n",
      "marital_status_widowed                                                 bool\n",
      "marital_status_single                                                  bool\n",
      "marital_status_married                                                 bool\n",
      "marital_status_divorced                                                bool\n",
      "gender_f                                                               bool\n",
      "gender_m                                                               bool\n",
      "emar_medicine_count                                                   int64\n",
      "emar_contains_insulin                                                  bool\n",
      "emar_contains_ace_inhabitors                                           bool\n",
      "emar_contains_calcium_blockers                                         bool\n",
      "emar_contains_not_given                                                bool\n",
      "emar_contains_not_flushed                                              bool\n",
      "emar_contains_stopped                                                  bool\n",
      "emar_contains_not_started                                              bool\n",
      "abnormal_lab_flags                                                    int64\n",
      "has_lab_comment                                                        bool\n",
      "lab_priority_stat                                                      bool\n",
      "lab_priority_routine                                                   bool\n",
      "dtype: object\n",
      "Saving train, validate and test for  unknown\n",
      "Importing  white\n"
     ]
    },
    {
     "ename": "KeyboardInterrupt",
     "evalue": "",
     "output_type": "error",
     "traceback": [
      "\u001b[1;31m---------------------------------------------------------------------------\u001b[0m",
      "\u001b[1;31mKeyboardInterrupt\u001b[0m                         Traceback (most recent call last)",
      "\u001b[1;32md:\\Users\\annik\\Documenten\\Zweden\\KTH\\S1\\Research Methodology\\MIMIC-IV\\preprocessing_IV.ipynb Cell 5\u001b[0m in \u001b[0;36m<cell line: 3>\u001b[1;34m()\u001b[0m\n\u001b[0;32m      <a href='vscode-notebook-cell:/d%3A/Users/annik/Documenten/Zweden/KTH/S1/Research%20Methodology/MIMIC-IV/preprocessing_IV.ipynb#W4sZmlsZQ%3D%3D?line=0'>1</a>\u001b[0m ethnic_group_names \u001b[39m=\u001b[39m [\u001b[39m'\u001b[39m\u001b[39munknown\u001b[39m\u001b[39m'\u001b[39m, \u001b[39m'\u001b[39m\u001b[39mwhite\u001b[39m\u001b[39m'\u001b[39m, \u001b[39m'\u001b[39m\u001b[39mother\u001b[39m\u001b[39m'\u001b[39m, \u001b[39m'\u001b[39m\u001b[39masian\u001b[39m\u001b[39m'\u001b[39m, \u001b[39m'\u001b[39m\u001b[39mhispanic_latino\u001b[39m\u001b[39m'\u001b[39m, \u001b[39m'\u001b[39m\u001b[39mblack_african_american\u001b[39m\u001b[39m'\u001b[39m, \u001b[39m'\u001b[39m\u001b[39munable_to_obtain\u001b[39m\u001b[39m'\u001b[39m, \u001b[39m'\u001b[39m\u001b[39mamerican_indian_alaska_native\u001b[39m\u001b[39m'\u001b[39m]\n\u001b[0;32m      <a href='vscode-notebook-cell:/d%3A/Users/annik/Documenten/Zweden/KTH/S1/Research%20Methodology/MIMIC-IV/preprocessing_IV.ipynb#W4sZmlsZQ%3D%3D?line=2'>3</a>\u001b[0m \u001b[39mfor\u001b[39;00m name \u001b[39min\u001b[39;00m ethnic_group_names:\n\u001b[1;32m----> <a href='vscode-notebook-cell:/d%3A/Users/annik/Documenten/Zweden/KTH/S1/Research%20Methodology/MIMIC-IV/preprocessing_IV.ipynb#W4sZmlsZQ%3D%3D?line=3'>4</a>\u001b[0m     sort_and_split(name)\n",
      "\u001b[1;32md:\\Users\\annik\\Documenten\\Zweden\\KTH\\S1\\Research Methodology\\MIMIC-IV\\preprocessing_IV.ipynb Cell 5\u001b[0m in \u001b[0;36msort_and_split\u001b[1;34m(df_name)\u001b[0m\n\u001b[0;32m      <a href='vscode-notebook-cell:/d%3A/Users/annik/Documenten/Zweden/KTH/S1/Research%20Methodology/MIMIC-IV/preprocessing_IV.ipynb#W4sZmlsZQ%3D%3D?line=0'>1</a>\u001b[0m \u001b[39mdef\u001b[39;00m \u001b[39msort_and_split\u001b[39m (df_name):\n\u001b[0;32m      <a href='vscode-notebook-cell:/d%3A/Users/annik/Documenten/Zweden/KTH/S1/Research%20Methodology/MIMIC-IV/preprocessing_IV.ipynb#W4sZmlsZQ%3D%3D?line=1'>2</a>\u001b[0m     \u001b[39m# import data\u001b[39;00m\n\u001b[0;32m      <a href='vscode-notebook-cell:/d%3A/Users/annik/Documenten/Zweden/KTH/S1/Research%20Methodology/MIMIC-IV/preprocessing_IV.ipynb#W4sZmlsZQ%3D%3D?line=2'>3</a>\u001b[0m     \u001b[39mprint\u001b[39m(\u001b[39m'\u001b[39m\u001b[39mImporting \u001b[39m\u001b[39m'\u001b[39m, df_name)\n\u001b[1;32m----> <a href='vscode-notebook-cell:/d%3A/Users/annik/Documenten/Zweden/KTH/S1/Research%20Methodology/MIMIC-IV/preprocessing_IV.ipynb#W4sZmlsZQ%3D%3D?line=3'>4</a>\u001b[0m     df \u001b[39m=\u001b[39m pd\u001b[39m.\u001b[39;49mread_csv(\u001b[39m'\u001b[39;49m\u001b[39mdata/preprocessing_III/\u001b[39;49m\u001b[39m'\u001b[39;49m \u001b[39m+\u001b[39;49m df_name \u001b[39m+\u001b[39;49m \u001b[39m'\u001b[39;49m\u001b[39m.csv\u001b[39;49m\u001b[39m'\u001b[39;49m)\n\u001b[0;32m      <a href='vscode-notebook-cell:/d%3A/Users/annik/Documenten/Zweden/KTH/S1/Research%20Methodology/MIMIC-IV/preprocessing_IV.ipynb#W4sZmlsZQ%3D%3D?line=4'>5</a>\u001b[0m     \u001b[39mprint\u001b[39m(df\u001b[39m.\u001b[39mdtypes)\n\u001b[0;32m      <a href='vscode-notebook-cell:/d%3A/Users/annik/Documenten/Zweden/KTH/S1/Research%20Methodology/MIMIC-IV/preprocessing_IV.ipynb#W4sZmlsZQ%3D%3D?line=6'>7</a>\u001b[0m     \u001b[39m# sort\u001b[39;00m\n",
      "File \u001b[1;32md:\\Users\\annik\\anaconda3\\envs\\sklearn-env\\lib\\site-packages\\pandas\\util\\_decorators.py:311\u001b[0m, in \u001b[0;36mdeprecate_nonkeyword_arguments.<locals>.decorate.<locals>.wrapper\u001b[1;34m(*args, **kwargs)\u001b[0m\n\u001b[0;32m    305\u001b[0m \u001b[39mif\u001b[39;00m \u001b[39mlen\u001b[39m(args) \u001b[39m>\u001b[39m num_allow_args:\n\u001b[0;32m    306\u001b[0m     warnings\u001b[39m.\u001b[39mwarn(\n\u001b[0;32m    307\u001b[0m         msg\u001b[39m.\u001b[39mformat(arguments\u001b[39m=\u001b[39marguments),\n\u001b[0;32m    308\u001b[0m         \u001b[39mFutureWarning\u001b[39;00m,\n\u001b[0;32m    309\u001b[0m         stacklevel\u001b[39m=\u001b[39mstacklevel,\n\u001b[0;32m    310\u001b[0m     )\n\u001b[1;32m--> 311\u001b[0m \u001b[39mreturn\u001b[39;00m func(\u001b[39m*\u001b[39margs, \u001b[39m*\u001b[39m\u001b[39m*\u001b[39mkwargs)\n",
      "File \u001b[1;32md:\\Users\\annik\\anaconda3\\envs\\sklearn-env\\lib\\site-packages\\pandas\\io\\parsers\\readers.py:678\u001b[0m, in \u001b[0;36mread_csv\u001b[1;34m(filepath_or_buffer, sep, delimiter, header, names, index_col, usecols, squeeze, prefix, mangle_dupe_cols, dtype, engine, converters, true_values, false_values, skipinitialspace, skiprows, skipfooter, nrows, na_values, keep_default_na, na_filter, verbose, skip_blank_lines, parse_dates, infer_datetime_format, keep_date_col, date_parser, dayfirst, cache_dates, iterator, chunksize, compression, thousands, decimal, lineterminator, quotechar, quoting, doublequote, escapechar, comment, encoding, encoding_errors, dialect, error_bad_lines, warn_bad_lines, on_bad_lines, delim_whitespace, low_memory, memory_map, float_precision, storage_options)\u001b[0m\n\u001b[0;32m    663\u001b[0m kwds_defaults \u001b[39m=\u001b[39m _refine_defaults_read(\n\u001b[0;32m    664\u001b[0m     dialect,\n\u001b[0;32m    665\u001b[0m     delimiter,\n\u001b[1;32m   (...)\u001b[0m\n\u001b[0;32m    674\u001b[0m     defaults\u001b[39m=\u001b[39m{\u001b[39m\"\u001b[39m\u001b[39mdelimiter\u001b[39m\u001b[39m\"\u001b[39m: \u001b[39m\"\u001b[39m\u001b[39m,\u001b[39m\u001b[39m\"\u001b[39m},\n\u001b[0;32m    675\u001b[0m )\n\u001b[0;32m    676\u001b[0m kwds\u001b[39m.\u001b[39mupdate(kwds_defaults)\n\u001b[1;32m--> 678\u001b[0m \u001b[39mreturn\u001b[39;00m _read(filepath_or_buffer, kwds)\n",
      "File \u001b[1;32md:\\Users\\annik\\anaconda3\\envs\\sklearn-env\\lib\\site-packages\\pandas\\io\\parsers\\readers.py:581\u001b[0m, in \u001b[0;36m_read\u001b[1;34m(filepath_or_buffer, kwds)\u001b[0m\n\u001b[0;32m    578\u001b[0m     \u001b[39mreturn\u001b[39;00m parser\n\u001b[0;32m    580\u001b[0m \u001b[39mwith\u001b[39;00m parser:\n\u001b[1;32m--> 581\u001b[0m     \u001b[39mreturn\u001b[39;00m parser\u001b[39m.\u001b[39;49mread(nrows)\n",
      "File \u001b[1;32md:\\Users\\annik\\anaconda3\\envs\\sklearn-env\\lib\\site-packages\\pandas\\io\\parsers\\readers.py:1253\u001b[0m, in \u001b[0;36mTextFileReader.read\u001b[1;34m(self, nrows)\u001b[0m\n\u001b[0;32m   1251\u001b[0m nrows \u001b[39m=\u001b[39m validate_integer(\u001b[39m\"\u001b[39m\u001b[39mnrows\u001b[39m\u001b[39m\"\u001b[39m, nrows)\n\u001b[0;32m   1252\u001b[0m \u001b[39mtry\u001b[39;00m:\n\u001b[1;32m-> 1253\u001b[0m     index, columns, col_dict \u001b[39m=\u001b[39m \u001b[39mself\u001b[39;49m\u001b[39m.\u001b[39;49m_engine\u001b[39m.\u001b[39;49mread(nrows)\n\u001b[0;32m   1254\u001b[0m \u001b[39mexcept\u001b[39;00m \u001b[39mException\u001b[39;00m:\n\u001b[0;32m   1255\u001b[0m     \u001b[39mself\u001b[39m\u001b[39m.\u001b[39mclose()\n",
      "File \u001b[1;32md:\\Users\\annik\\anaconda3\\envs\\sklearn-env\\lib\\site-packages\\pandas\\io\\parsers\\c_parser_wrapper.py:225\u001b[0m, in \u001b[0;36mCParserWrapper.read\u001b[1;34m(self, nrows)\u001b[0m\n\u001b[0;32m    223\u001b[0m \u001b[39mtry\u001b[39;00m:\n\u001b[0;32m    224\u001b[0m     \u001b[39mif\u001b[39;00m \u001b[39mself\u001b[39m\u001b[39m.\u001b[39mlow_memory:\n\u001b[1;32m--> 225\u001b[0m         chunks \u001b[39m=\u001b[39m \u001b[39mself\u001b[39;49m\u001b[39m.\u001b[39;49m_reader\u001b[39m.\u001b[39;49mread_low_memory(nrows)\n\u001b[0;32m    226\u001b[0m         \u001b[39m# destructive to chunks\u001b[39;00m\n\u001b[0;32m    227\u001b[0m         data \u001b[39m=\u001b[39m _concatenate_chunks(chunks)\n",
      "File \u001b[1;32md:\\Users\\annik\\anaconda3\\envs\\sklearn-env\\lib\\site-packages\\pandas\\_libs\\parsers.pyx:805\u001b[0m, in \u001b[0;36mpandas._libs.parsers.TextReader.read_low_memory\u001b[1;34m()\u001b[0m\n",
      "File \u001b[1;32md:\\Users\\annik\\anaconda3\\envs\\sklearn-env\\lib\\site-packages\\pandas\\_libs\\parsers.pyx:883\u001b[0m, in \u001b[0;36mpandas._libs.parsers.TextReader._read_rows\u001b[1;34m()\u001b[0m\n",
      "File \u001b[1;32md:\\Users\\annik\\anaconda3\\envs\\sklearn-env\\lib\\site-packages\\pandas\\_libs\\parsers.pyx:1026\u001b[0m, in \u001b[0;36mpandas._libs.parsers.TextReader._convert_column_data\u001b[1;34m()\u001b[0m\n",
      "File \u001b[1;32md:\\Users\\annik\\anaconda3\\envs\\sklearn-env\\lib\\site-packages\\pandas\\_libs\\parsers.pyx:1072\u001b[0m, in \u001b[0;36mpandas._libs.parsers.TextReader._convert_tokens\u001b[1;34m()\u001b[0m\n",
      "File \u001b[1;32md:\\Users\\annik\\anaconda3\\envs\\sklearn-env\\lib\\site-packages\\pandas\\_libs\\parsers.pyx:1147\u001b[0m, in \u001b[0;36mpandas._libs.parsers.TextReader._convert_with_dtype\u001b[1;34m()\u001b[0m\n",
      "File \u001b[1;32md:\\Users\\annik\\anaconda3\\envs\\sklearn-env\\lib\\site-packages\\pandas\\core\\dtypes\\common.py:1429\u001b[0m, in \u001b[0;36mis_extension_array_dtype\u001b[1;34m(arr_or_dtype)\u001b[0m\n\u001b[0;32m   1420\u001b[0m     \u001b[39m# Note: if other EA dtypes are ever held in HybridBlock, exclude those\u001b[39;00m\n\u001b[0;32m   1421\u001b[0m     \u001b[39m#  here too.\u001b[39;00m\n\u001b[0;32m   1422\u001b[0m     \u001b[39m# NB: need to check DatetimeTZDtype and not is_datetime64tz_dtype\u001b[39;00m\n\u001b[0;32m   1423\u001b[0m     \u001b[39m#  to exclude ArrowTimestampUSDtype\u001b[39;00m\n\u001b[0;32m   1424\u001b[0m     \u001b[39mreturn\u001b[39;00m \u001b[39misinstance\u001b[39m(dtype, ExtensionDtype) \u001b[39mand\u001b[39;00m \u001b[39mnot\u001b[39;00m \u001b[39misinstance\u001b[39m(\n\u001b[0;32m   1425\u001b[0m         dtype, (DatetimeTZDtype, PeriodDtype)\n\u001b[0;32m   1426\u001b[0m     )\n\u001b[1;32m-> 1429\u001b[0m \u001b[39mdef\u001b[39;00m \u001b[39mis_extension_array_dtype\u001b[39m(arr_or_dtype) \u001b[39m-\u001b[39m\u001b[39m>\u001b[39m \u001b[39mbool\u001b[39m:\n\u001b[0;32m   1430\u001b[0m     \u001b[39m\"\"\"\u001b[39;00m\n\u001b[0;32m   1431\u001b[0m \u001b[39m    Check if an object is a pandas extension array type.\u001b[39;00m\n\u001b[0;32m   1432\u001b[0m \n\u001b[1;32m   (...)\u001b[0m\n\u001b[0;32m   1472\u001b[0m \u001b[39m    False\u001b[39;00m\n\u001b[0;32m   1473\u001b[0m \u001b[39m    \"\"\"\u001b[39;00m\n\u001b[0;32m   1474\u001b[0m     dtype \u001b[39m=\u001b[39m \u001b[39mgetattr\u001b[39m(arr_or_dtype, \u001b[39m\"\u001b[39m\u001b[39mdtype\u001b[39m\u001b[39m\"\u001b[39m, arr_or_dtype)\n",
      "\u001b[1;31mKeyboardInterrupt\u001b[0m: "
     ]
    }
   ],
   "source": [
    "ethnic_group_names = ['unknown', 'white', 'other', 'asian', 'hispanic_latino', 'black_african_american', 'unable_to_obtain', 'american_indian_alaska_native']\n",
    "\n",
    "for name in ethnic_group_names:\n",
    "    sort_and_split(name)\n"
   ]
  }
 ],
 "metadata": {
  "kernelspec": {
   "display_name": "Python 3.10.6 ('sklearn-env')",
   "language": "python",
   "name": "python3"
  },
  "language_info": {
   "codemirror_mode": {
    "name": "ipython",
    "version": 3
   },
   "file_extension": ".py",
   "mimetype": "text/x-python",
   "name": "python",
   "nbconvert_exporter": "python",
   "pygments_lexer": "ipython3",
   "version": "3.10.6"
  },
  "orig_nbformat": 4,
  "vscode": {
   "interpreter": {
    "hash": "34e7f5b862476ca5b132d6fa3a551e06a58745cd7626854c77bc546bf08a4906"
   }
  }
 },
 "nbformat": 4,
 "nbformat_minor": 2
}
