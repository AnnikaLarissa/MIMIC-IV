{
 "cells": [
  {
   "cell_type": "markdown",
   "metadata": {},
   "source": [
    "# Random Forest Classifier\n",
    "\n",
    "This is a fast sklearn classifier, to investigate the model performance in the exploration phase. Further tuning of hyperparameters must be done. Also, the data needs further preprocessing, so we leave out all the object type columns."
   ]
  },
  {
   "cell_type": "code",
   "execution_count": 17,
   "metadata": {},
   "outputs": [],
   "source": [
    "import pandas as pd\n",
    "from sklearn.ensemble import RandomForestClassifier\n",
    "from sklearn.model_selection import train_test_split\n",
    "from sklearn.metrics import accuracy_score, precision_score, recall_score"
   ]
  },
  {
   "cell_type": "code",
   "execution_count": 19,
   "metadata": {},
   "outputs": [
    {
     "name": "stdout",
     "output_type": "stream",
     "text": [
      "Accuracy for  unknown  is  0.8860976751443282\n",
      "Precision for  unknown  is  0.6598746081504702\n",
      "Recall for  unknown  is  0.45074946466809424\n",
      "Accuracy for  white  is  0.8521984671238403\n",
      "Precision for  white  is  0.6528939306119069\n",
      "Recall for  white  is  0.39071403795649373\n",
      "Accuracy for  other  is  0.8807991872671859\n",
      "Precision for  other  is  0.6501340482573726\n",
      "Recall for  other  is  0.37890625\n",
      "Accuracy for  asian  is  0.9099221549487211\n",
      "Precision for  asian  is  0.6927374301675978\n",
      "Recall for  asian  is  0.3974358974358974\n",
      "Accuracy for  hispanic_latino  is  0.8820845584507756\n",
      "Precision for  hispanic_latino  is  0.6890574214517876\n",
      "Recall for  hispanic_latino  is  0.42063492063492064\n",
      "Accuracy for  black_african_american  is  0.8507187476480771\n",
      "Precision for  black_african_american  is  0.6987478975892356\n",
      "Recall for  black_african_american  is  0.6135543157203807\n",
      "Accuracy for  unable_to_obtain  is  0.9360323886639677\n",
      "Precision for  unable_to_obtain  is  0.625\n",
      "Recall for  unable_to_obtain  is  0.2808988764044944\n",
      "Accuracy for  american_indian_alaska_native  is  0.8796844181459567\n",
      "Precision for  american_indian_alaska_native  is  0.780952380952381\n",
      "Recall for  american_indian_alaska_native  is  0.6833333333333333\n"
     ]
    }
   ],
   "source": [
    "ethnic_group_names = ['unknown', 'white', 'other', 'asian', 'hispanic_latino', 'black_african_american', 'unable_to_obtain', 'american_indian_alaska_native']\n",
    "\n",
    "for name in ethnic_group_names:\n",
    "    # import data\n",
    "    df = pd.read_csv('data/preprocessing_II/' + name +'.csv')\n",
    "    df['admittime'] = pd.to_numeric(pd.to_datetime(df['admittime']))\n",
    "    df['icd_code_count'] = df['icd_code_count'].fillna(0)\n",
    "    df['icd_code_count'] = df['icd_code_count'].astype(int)\n",
    "    df['emar_count'] = df['emar_count'].fillna(0)\n",
    "    df['emar_count'] = df['emar_count'].astype(int)\n",
    "    df['lab_count'] = df['lab_count'].fillna(0)\n",
    "    df['lab_count'] = df['lab_count'].astype(int)\n",
    "    # print(df.dtypes)\n",
    "\n",
    "    # split labels and features\n",
    "    X = df[['hadm_id', 'subject_id', 'admittime', 'anchor_age', 'anchor_year', 'icd_code_count', 'emar_count', 'lab_count']]\n",
    "    y = df['has_kidney_issue']\n",
    "\n",
    "    # split train and test\n",
    "    X_train, X_test, y_train, y_test = train_test_split(X, y, test_size=0.33, random_state=42)\n",
    "\n",
    "    # train classifier\n",
    "    clf = RandomForestClassifier(max_depth=10, random_state=42)\n",
    "    clf.fit(X_train, y_train)\n",
    "    \n",
    "    # predict labels\n",
    "    y_pred = clf.predict(X_test)\n",
    "\n",
    "    # calculate metrics\n",
    "    print('Accuracy for ', name, ' is ', accuracy_score(y_test, y_pred))\n",
    "    print('Precision for ', name, ' is ', precision_score(y_test, y_pred))\n",
    "    print('Recall for ', name, ' is ', recall_score(y_test, y_pred))"
   ]
  }
 ],
 "metadata": {
  "kernelspec": {
   "display_name": "Python 3.10.6 ('sklearn-env')",
   "language": "python",
   "name": "python3"
  },
  "language_info": {
   "codemirror_mode": {
    "name": "ipython",
    "version": 3
   },
   "file_extension": ".py",
   "mimetype": "text/x-python",
   "name": "python",
   "nbconvert_exporter": "python",
   "pygments_lexer": "ipython3",
   "version": "3.10.6"
  },
  "orig_nbformat": 4,
  "vscode": {
   "interpreter": {
    "hash": "34e7f5b862476ca5b132d6fa3a551e06a58745cd7626854c77bc546bf08a4906"
   }
  }
 },
 "nbformat": 4,
 "nbformat_minor": 2
}
