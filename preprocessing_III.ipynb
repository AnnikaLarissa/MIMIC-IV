{
 "cells": [
  {
   "cell_type": "markdown",
   "source": [
    "# Preprocessing III\n",
    "\n",
    "This notebook extends the data output from preprocessing II, making it ready to train models on."
   ],
   "metadata": {
    "collapsed": false,
    "pycharm": {
     "name": "#%% md\n"
    }
   }
  },
  {
   "cell_type": "code",
   "execution_count": 6,
   "outputs": [],
   "source": [
    "import pandas as pd\n",
    "import numpy as np\n",
    "import glob\n",
    "\n",
    "path = './data/preprocessing_II'\n",
    "files = glob.glob(path + \"/*.csv\")"
   ],
   "metadata": {
    "collapsed": false,
    "pycharm": {
     "name": "#%%\n"
    }
   }
  },
  {
   "cell_type": "markdown",
   "source": [
    "## Import data\n",
    "\n",
    "Data is read from preprocessing II output files. For a quick analysis of the data distribution, the fraction of patients suffering from kidney issues is printed."
   ],
   "metadata": {
    "collapsed": false,
    "pycharm": {
     "name": "#%% md\n"
    }
   }
  },
  {
   "cell_type": "code",
   "execution_count": 7,
   "outputs": [],
   "source": [
    "def readFiles(csv_files):\n",
    "    return [pd.read_csv(file) for file in csv_files]\n",
    "\n",
    "ethn_list = readFiles(files)"
   ],
   "metadata": {
    "collapsed": false,
    "pycharm": {
     "name": "#%%\n"
    }
   }
  },
  {
   "cell_type": "markdown",
   "source": [
    "Print ethnicity order and percentage of patients suffering from kidney disease"
   ],
   "metadata": {
    "collapsed": false,
    "pycharm": {
     "name": "#%% md\n"
    }
   }
  },
  {
   "cell_type": "code",
   "execution_count": 8,
   "outputs": [
    {
     "name": "stdout",
     "output_type": "stream",
     "text": [
      "0\t22% \tamerican_indian_alaska_native\n",
      "1\t11% \tasian\n",
      "2\t22% \tblack_african_american\n",
      "3\t15% \thispanic_latino\n",
      "4\t14% \tother\n",
      "5\t7% \tunable_to_obtain\n",
      "6\t14% \tunknown\n",
      "7\t18% \twhite\n"
     ]
    }
   ],
   "source": [
    "def printEthnicities(csv_files, df_list):\n",
    "    for counter in range(len(csv_files)):\n",
    "        print(counter.__str__() + \"\\t\"  + (int(sum(df_list[counter]['has_kidney_issue'])/len(df_list[counter])*100)).__str__() + \"% \\t\" + csv_files[counter].split(\"\\\\\")[1].split(\".\")[0])\n",
    "\n",
    "printEthnicities(files, ethn_list)"
   ],
   "metadata": {
    "collapsed": false,
    "pycharm": {
     "name": "#%%\n"
    }
   }
  },
  {
   "cell_type": "code",
   "execution_count": 9,
   "outputs": [
    {
     "data": {
      "text/plain": "   Unnamed: 0   hadm_id  subject_id            admittime     admission_type  \\\n0           0  20007016    11833347  2171-02-15 11:02:00           ELECTIVE   \n1           1  20012443    17229742  2182-10-08 03:33:00           ELECTIVE   \n2           2  20016748    12255735  2147-05-08 20:52:00           EW EMER.   \n3           3  20023656    15250287  2142-01-18 16:37:00  OBSERVATION ADMIT   \n4           4  20025002    17923018  2167-11-03 03:27:00           ELECTIVE   \n\n   admission_location insurance marital_status                      ethnicity  \\\n0                 NaN     Other            NaN  AMERICAN INDIAN/ALASKA NATIVE   \n1                 NaN     Other            NaN  AMERICAN INDIAN/ALASKA NATIVE   \n2      EMERGENCY ROOM     Other        MARRIED  AMERICAN INDIAN/ALASKA NATIVE   \n3  PHYSICIAN REFERRAL     Other         SINGLE  AMERICAN INDIAN/ALASKA NATIVE   \n4                 NaN     Other         SINGLE  AMERICAN INDIAN/ALASKA NATIVE   \n\n             edregtime  ... emar_count       emar_charttime  \\\n0                  NaN  ...        NaN                  NaN   \n1                  NaN  ...        NaN                  NaN   \n2  2147-05-08 16:23:00  ...        NaN                  NaN   \n3  2142-01-18 13:48:00  ...       49.0  2142-01-18 21:25:00   \n4                  NaN  ...        NaN                  NaN   \n\n                                    emar_medications  \\\n0                                                NaN   \n1                                                NaN   \n2                                                NaN   \n3  ['Heparin', 'LamoTRIgine', 'LevETIRAcetam', 'O...   \n4                                                NaN   \n\n                                         emar_events  lab_count  \\\n0                                                NaN        6.0   \n1                                                NaN        3.0   \n2                                                NaN       98.0   \n3  ['Not Given', 'Administered', 'Administered', ...       75.0   \n4                                                NaN      102.0   \n\n         lab_charttime                                           lab_flag  \\\n0  2171-02-16 23:22:00                   ['', '', 'abnormal', '', '', '']   \n1  2182-10-10 07:57:00                                       ['', '', '']   \n2  2147-05-09 04:55:00  ['', '', 'abnormal', '', '', '', 'abnormal', '...   \n3  2142-01-19 16:45:00  ['', '', '', '', '', '', '', '', '', '', '', '...   \n4  2167-11-03 03:52:00  ['', '', '', '', '', 'abnormal', 'abnormal', '...   \n\n                                        lab_priority  \\\n0   ['STAT', 'STAT', 'STAT', 'STAT', 'STAT', 'STAT']   \n1                           ['STAT', 'STAT', 'STAT']   \n2  ['ROUTINE', 'ROUTINE', 'ROUTINE', 'ROUTINE', '...   \n3  ['ROUTINE', 'ROUTINE', 'ROUTINE', 'ROUTINE', '...   \n4  ['', 'STAT', 'STAT', 'STAT', 'STAT', 'STAT', '...   \n\n                                        lab_comments has_kidney_issue  \n0                           ['', '', '', '', '', '']            False  \n1                                       ['', '', '']            False  \n2  ['', '', '', '', '', '', '', '', '', '', '', '...             True  \n3  ['', '', '', '', '', '', '', '', '', '', '', '...            False  \n4  ['VEN.  ', '', '', '', '', '', '', '', '', '',...            False  \n\n[5 rows x 24 columns]",
      "text/html": "<div>\n<style scoped>\n    .dataframe tbody tr th:only-of-type {\n        vertical-align: middle;\n    }\n\n    .dataframe tbody tr th {\n        vertical-align: top;\n    }\n\n    .dataframe thead th {\n        text-align: right;\n    }\n</style>\n<table border=\"1\" class=\"dataframe\">\n  <thead>\n    <tr style=\"text-align: right;\">\n      <th></th>\n      <th>Unnamed: 0</th>\n      <th>hadm_id</th>\n      <th>subject_id</th>\n      <th>admittime</th>\n      <th>admission_type</th>\n      <th>admission_location</th>\n      <th>insurance</th>\n      <th>marital_status</th>\n      <th>ethnicity</th>\n      <th>edregtime</th>\n      <th>...</th>\n      <th>emar_count</th>\n      <th>emar_charttime</th>\n      <th>emar_medications</th>\n      <th>emar_events</th>\n      <th>lab_count</th>\n      <th>lab_charttime</th>\n      <th>lab_flag</th>\n      <th>lab_priority</th>\n      <th>lab_comments</th>\n      <th>has_kidney_issue</th>\n    </tr>\n  </thead>\n  <tbody>\n    <tr>\n      <th>0</th>\n      <td>0</td>\n      <td>20007016</td>\n      <td>11833347</td>\n      <td>2171-02-15 11:02:00</td>\n      <td>ELECTIVE</td>\n      <td>NaN</td>\n      <td>Other</td>\n      <td>NaN</td>\n      <td>AMERICAN INDIAN/ALASKA NATIVE</td>\n      <td>NaN</td>\n      <td>...</td>\n      <td>NaN</td>\n      <td>NaN</td>\n      <td>NaN</td>\n      <td>NaN</td>\n      <td>6.0</td>\n      <td>2171-02-16 23:22:00</td>\n      <td>['', '', 'abnormal', '', '', '']</td>\n      <td>['STAT', 'STAT', 'STAT', 'STAT', 'STAT', 'STAT']</td>\n      <td>['', '', '', '', '', '']</td>\n      <td>False</td>\n    </tr>\n    <tr>\n      <th>1</th>\n      <td>1</td>\n      <td>20012443</td>\n      <td>17229742</td>\n      <td>2182-10-08 03:33:00</td>\n      <td>ELECTIVE</td>\n      <td>NaN</td>\n      <td>Other</td>\n      <td>NaN</td>\n      <td>AMERICAN INDIAN/ALASKA NATIVE</td>\n      <td>NaN</td>\n      <td>...</td>\n      <td>NaN</td>\n      <td>NaN</td>\n      <td>NaN</td>\n      <td>NaN</td>\n      <td>3.0</td>\n      <td>2182-10-10 07:57:00</td>\n      <td>['', '', '']</td>\n      <td>['STAT', 'STAT', 'STAT']</td>\n      <td>['', '', '']</td>\n      <td>False</td>\n    </tr>\n    <tr>\n      <th>2</th>\n      <td>2</td>\n      <td>20016748</td>\n      <td>12255735</td>\n      <td>2147-05-08 20:52:00</td>\n      <td>EW EMER.</td>\n      <td>EMERGENCY ROOM</td>\n      <td>Other</td>\n      <td>MARRIED</td>\n      <td>AMERICAN INDIAN/ALASKA NATIVE</td>\n      <td>2147-05-08 16:23:00</td>\n      <td>...</td>\n      <td>NaN</td>\n      <td>NaN</td>\n      <td>NaN</td>\n      <td>NaN</td>\n      <td>98.0</td>\n      <td>2147-05-09 04:55:00</td>\n      <td>['', '', 'abnormal', '', '', '', 'abnormal', '...</td>\n      <td>['ROUTINE', 'ROUTINE', 'ROUTINE', 'ROUTINE', '...</td>\n      <td>['', '', '', '', '', '', '', '', '', '', '', '...</td>\n      <td>True</td>\n    </tr>\n    <tr>\n      <th>3</th>\n      <td>3</td>\n      <td>20023656</td>\n      <td>15250287</td>\n      <td>2142-01-18 16:37:00</td>\n      <td>OBSERVATION ADMIT</td>\n      <td>PHYSICIAN REFERRAL</td>\n      <td>Other</td>\n      <td>SINGLE</td>\n      <td>AMERICAN INDIAN/ALASKA NATIVE</td>\n      <td>2142-01-18 13:48:00</td>\n      <td>...</td>\n      <td>49.0</td>\n      <td>2142-01-18 21:25:00</td>\n      <td>['Heparin', 'LamoTRIgine', 'LevETIRAcetam', 'O...</td>\n      <td>['Not Given', 'Administered', 'Administered', ...</td>\n      <td>75.0</td>\n      <td>2142-01-19 16:45:00</td>\n      <td>['', '', '', '', '', '', '', '', '', '', '', '...</td>\n      <td>['ROUTINE', 'ROUTINE', 'ROUTINE', 'ROUTINE', '...</td>\n      <td>['', '', '', '', '', '', '', '', '', '', '', '...</td>\n      <td>False</td>\n    </tr>\n    <tr>\n      <th>4</th>\n      <td>4</td>\n      <td>20025002</td>\n      <td>17923018</td>\n      <td>2167-11-03 03:27:00</td>\n      <td>ELECTIVE</td>\n      <td>NaN</td>\n      <td>Other</td>\n      <td>SINGLE</td>\n      <td>AMERICAN INDIAN/ALASKA NATIVE</td>\n      <td>NaN</td>\n      <td>...</td>\n      <td>NaN</td>\n      <td>NaN</td>\n      <td>NaN</td>\n      <td>NaN</td>\n      <td>102.0</td>\n      <td>2167-11-03 03:52:00</td>\n      <td>['', '', '', '', '', 'abnormal', 'abnormal', '...</td>\n      <td>['', 'STAT', 'STAT', 'STAT', 'STAT', 'STAT', '...</td>\n      <td>['VEN.  ', '', '', '', '', '', '', '', '', '',...</td>\n      <td>False</td>\n    </tr>\n  </tbody>\n</table>\n<p>5 rows × 24 columns</p>\n</div>"
     },
     "execution_count": 9,
     "metadata": {},
     "output_type": "execute_result"
    }
   ],
   "source": [
    "def getTestDf(df_list):\n",
    "    return df_list[0]\n",
    "\n",
    "df = getTestDf(ethn_list)\n",
    "df.head()"
   ],
   "metadata": {
    "collapsed": false,
    "pycharm": {
     "name": "#%%\n"
    }
   }
  },
  {
   "cell_type": "markdown",
   "source": [
    "## Processing types of columns and categorical variables\n",
    "\n",
    "The columns for 'emar_events', 'lab_priority' and 'lab_comments' are dropped as these do not contain interpretable data with predictive power."
   ],
   "metadata": {
    "collapsed": false,
    "pycharm": {
     "name": "#%% md\n"
    }
   }
  },
  {
   "cell_type": "code",
   "execution_count": 10,
   "outputs": [],
   "source": [
    "datetime = ['admittime', 'edregtime', 'emar_charttime', 'lab_charttime']\n",
    "ints = ['icd_code_count', 'emar_count', 'lab_count']\n",
    "one_hots = ['admission_type', 'admission_location', 'insurance', 'marital_status', 'gender']\n",
    "drop_cols = ['ethnicity', 'emar_events', 'lab_priority', 'lab_comments', 'lab_flag', 'Unnamed: 0', 'hadm_id', 'subject_id', 'edregtime', 'emar_charttime', 'lab_charttime']\n",
    "\n",
    "def convert(type, dfs, cols):\n",
    "    for df in dfs:\n",
    "        for col in cols:\n",
    "            df[col] = df[col].astype(type)\n",
    "    return dfs\n",
    "\n",
    "def findAllUniques(dfs, col):\n",
    "    uniques = set()\n",
    "    for df in dfs:\n",
    "        for item in df[col].unique():\n",
    "            uniques.add(item)\n",
    "    return uniques\n",
    "\n",
    "def oneHot(dfs, cols):\n",
    "    for col in cols:\n",
    "        vals = findAllUniques(dfs, col)\n",
    "        for df in range(len(dfs)):\n",
    "            if len(vals) > 2:\n",
    "                for val in vals:\n",
    "                    dfs[df][val] = np.where(dfs[df][col]==val, True, False)\n",
    "\n",
    "                dfs[df] = dfs[df].drop(col, axis=1)\n",
    "            else:\n",
    "                dfs[df][col] = np.where(dfs[df][col]==val[0], True, False)\n",
    "    return dfs\n",
    "\n",
    "def dropCols(dfs, cols):\n",
    "    for col in cols:\n",
    "        for df in range(len(dfs)):\n",
    "            dfs[df] = dfs[df].drop(col, axis=1)\n",
    "    return dfs\n",
    "\n",
    "ethn_list = convert('datetime64', ethn_list, datetime)\n",
    "ethn_list = convert('Int64', ethn_list, ints)\n",
    "ethn_list = oneHot(ethn_list, one_hots)\n",
    "ethn_list = dropCols(ethn_list, drop_cols)"
   ],
   "metadata": {
    "collapsed": false,
    "pycharm": {
     "name": "#%%\n"
    }
   }
  },
  {
   "cell_type": "code",
   "execution_count": 11,
   "outputs": [
    {
     "data": {
      "text/plain": "            admittime  gender  anchor_age  anchor_year  icd_code_count  \\\n0 2171-02-15 11:02:00   False           0         2171               3   \n1 2182-10-08 03:33:00   False           0         2182               3   \n2 2147-05-08 20:52:00   False          60         2143              11   \n3 2142-01-18 16:37:00   False          25         2142               8   \n4 2167-11-03 03:27:00   False           0         2167               9   \n\n   emar_count                                   emar_medications  lab_count  \\\n0        <NA>                                                NaN          6   \n1        <NA>                                                NaN          3   \n2        <NA>                                                NaN         98   \n3          49  ['Heparin', 'LamoTRIgine', 'LevETIRAcetam', 'O...         75   \n4        <NA>                                                NaN        102   \n\n   has_kidney_issue  EU OBSERVATION  ...   PACU  EMERGENCY ROOM  \\\n0             False           False  ...  False           False   \n1             False           False  ...  False           False   \n2              True           False  ...  False            True   \n3             False           False  ...  False           False   \n4             False           False  ...  False           False   \n\n   INFORMATION NOT AVAILABLE  Medicaid  Other  Medicare  MARRIED  SINGLE  \\\n0                      False     False   True     False    False   False   \n1                      False     False   True     False    False   False   \n2                      False     False   True     False     True   False   \n3                      False     False   True     False    False    True   \n4                      False     False   True     False    False    True   \n\n   DIVORCED  WIDOWED  \n0     False    False  \n1     False    False  \n2     False    False  \n3     False    False  \n4     False    False  \n\n[5 rows x 37 columns]",
      "text/html": "<div>\n<style scoped>\n    .dataframe tbody tr th:only-of-type {\n        vertical-align: middle;\n    }\n\n    .dataframe tbody tr th {\n        vertical-align: top;\n    }\n\n    .dataframe thead th {\n        text-align: right;\n    }\n</style>\n<table border=\"1\" class=\"dataframe\">\n  <thead>\n    <tr style=\"text-align: right;\">\n      <th></th>\n      <th>admittime</th>\n      <th>gender</th>\n      <th>anchor_age</th>\n      <th>anchor_year</th>\n      <th>icd_code_count</th>\n      <th>emar_count</th>\n      <th>emar_medications</th>\n      <th>lab_count</th>\n      <th>has_kidney_issue</th>\n      <th>EU OBSERVATION</th>\n      <th>...</th>\n      <th>PACU</th>\n      <th>EMERGENCY ROOM</th>\n      <th>INFORMATION NOT AVAILABLE</th>\n      <th>Medicaid</th>\n      <th>Other</th>\n      <th>Medicare</th>\n      <th>MARRIED</th>\n      <th>SINGLE</th>\n      <th>DIVORCED</th>\n      <th>WIDOWED</th>\n    </tr>\n  </thead>\n  <tbody>\n    <tr>\n      <th>0</th>\n      <td>2171-02-15 11:02:00</td>\n      <td>False</td>\n      <td>0</td>\n      <td>2171</td>\n      <td>3</td>\n      <td>&lt;NA&gt;</td>\n      <td>NaN</td>\n      <td>6</td>\n      <td>False</td>\n      <td>False</td>\n      <td>...</td>\n      <td>False</td>\n      <td>False</td>\n      <td>False</td>\n      <td>False</td>\n      <td>True</td>\n      <td>False</td>\n      <td>False</td>\n      <td>False</td>\n      <td>False</td>\n      <td>False</td>\n    </tr>\n    <tr>\n      <th>1</th>\n      <td>2182-10-08 03:33:00</td>\n      <td>False</td>\n      <td>0</td>\n      <td>2182</td>\n      <td>3</td>\n      <td>&lt;NA&gt;</td>\n      <td>NaN</td>\n      <td>3</td>\n      <td>False</td>\n      <td>False</td>\n      <td>...</td>\n      <td>False</td>\n      <td>False</td>\n      <td>False</td>\n      <td>False</td>\n      <td>True</td>\n      <td>False</td>\n      <td>False</td>\n      <td>False</td>\n      <td>False</td>\n      <td>False</td>\n    </tr>\n    <tr>\n      <th>2</th>\n      <td>2147-05-08 20:52:00</td>\n      <td>False</td>\n      <td>60</td>\n      <td>2143</td>\n      <td>11</td>\n      <td>&lt;NA&gt;</td>\n      <td>NaN</td>\n      <td>98</td>\n      <td>True</td>\n      <td>False</td>\n      <td>...</td>\n      <td>False</td>\n      <td>True</td>\n      <td>False</td>\n      <td>False</td>\n      <td>True</td>\n      <td>False</td>\n      <td>True</td>\n      <td>False</td>\n      <td>False</td>\n      <td>False</td>\n    </tr>\n    <tr>\n      <th>3</th>\n      <td>2142-01-18 16:37:00</td>\n      <td>False</td>\n      <td>25</td>\n      <td>2142</td>\n      <td>8</td>\n      <td>49</td>\n      <td>['Heparin', 'LamoTRIgine', 'LevETIRAcetam', 'O...</td>\n      <td>75</td>\n      <td>False</td>\n      <td>False</td>\n      <td>...</td>\n      <td>False</td>\n      <td>False</td>\n      <td>False</td>\n      <td>False</td>\n      <td>True</td>\n      <td>False</td>\n      <td>False</td>\n      <td>True</td>\n      <td>False</td>\n      <td>False</td>\n    </tr>\n    <tr>\n      <th>4</th>\n      <td>2167-11-03 03:27:00</td>\n      <td>False</td>\n      <td>0</td>\n      <td>2167</td>\n      <td>9</td>\n      <td>&lt;NA&gt;</td>\n      <td>NaN</td>\n      <td>102</td>\n      <td>False</td>\n      <td>False</td>\n      <td>...</td>\n      <td>False</td>\n      <td>False</td>\n      <td>False</td>\n      <td>False</td>\n      <td>True</td>\n      <td>False</td>\n      <td>False</td>\n      <td>True</td>\n      <td>False</td>\n      <td>False</td>\n    </tr>\n  </tbody>\n</table>\n<p>5 rows × 37 columns</p>\n</div>"
     },
     "execution_count": 11,
     "metadata": {},
     "output_type": "execute_result"
    }
   ],
   "source": [
    "ethn_list[0].head()"
   ],
   "metadata": {
    "collapsed": false,
    "pycharm": {
     "name": "#%%\n"
    }
   }
  },
  {
   "cell_type": "markdown",
   "source": [
    "## Process list variables"
   ],
   "metadata": {
    "collapsed": false,
    "pycharm": {
     "name": "#%% md\n"
    }
   }
  },
  {
   "cell_type": "markdown",
   "source": [
    "### emar_medication\n",
    "This column is processed by finding the most common 5 medications among kidney disease patients.\n",
    "\n",
    "These five are then one-hot encoded"
   ],
   "metadata": {
    "collapsed": false,
    "pycharm": {
     "name": "#%% md\n"
    }
   }
  },
  {
   "cell_type": "code",
   "execution_count": 12,
   "outputs": [],
   "source": [
    "def getLiterals(dfs, cols):\n",
    "    chars = \"[]''\"\n",
    "    for col in cols:\n",
    "        for df in range(len(dfs)):\n",
    "            dfs[df][col] = dfs[df][col].fillna(\"[]\")\n",
    "            for char in chars:\n",
    "                dfs[df][col] = dfs[df][col].apply(lambda x: x.replace(char, \"\"))\n",
    "            dfs[df][col] = dfs[df][col].apply(lambda x: x.split(\", \"))\n",
    "    return dfs\n",
    "\n",
    "def getUniquesInList(dfs, col):\n",
    "    uniques = set()\n",
    "    for df in range(len(dfs)):\n",
    "        kid_iss = dfs[df][dfs[df]['has_kidney_issue'] == True]\n",
    "        for item in kid_iss[col]:\n",
    "                for sub in item:\n",
    "                    uniques.add(sub)\n",
    "    return uniques\n",
    "\n",
    "def countMeds(dfs):\n",
    "    uniques = getUniquesInList(dfs, 'emar_medications')\n",
    "    meds = [0]*len(uniques)\n",
    "    # for every medicine found in patients with kidney issues\n",
    "    for i, med in enumerate(uniques):\n",
    "        # for every ethnicity\n",
    "        for df in range(len(dfs)):\n",
    "            kid_iss = dfs[df][dfs[df]['has_kidney_issue'] == True]\n",
    "            # for every patient's medications\n",
    "            for item in kid_iss['emar_medications']:\n",
    "                # if it contains the medicine, increment\n",
    "                if med in item:\n",
    "                    meds[i] += 1\n",
    "    return meds"
   ],
   "metadata": {
    "collapsed": false,
    "pycharm": {
     "name": "#%%\n"
    }
   }
  },
  {
   "cell_type": "code",
   "execution_count": 13,
   "outputs": [
    {
     "data": {
      "text/plain": "            admittime  gender  anchor_age  anchor_year  icd_code_count  \\\n0 2171-02-15 11:02:00   False           0         2171               3   \n1 2182-10-08 03:33:00   False           0         2182               3   \n2 2147-05-08 20:52:00   False          60         2143              11   \n3 2142-01-18 16:37:00   False          25         2142               8   \n4 2167-11-03 03:27:00   False           0         2167               9   \n\n   emar_count                                   emar_medications  lab_count  \\\n0        <NA>                                                 []          6   \n1        <NA>                                                 []          3   \n2        <NA>                                                 []         98   \n3          49  [Heparin, LamoTRIgine, LevETIRAcetam, OXcarbaz...         75   \n4        <NA>                                                 []        102   \n\n   has_kidney_issue  EU OBSERVATION  ...   PACU  EMERGENCY ROOM  \\\n0             False           False  ...  False           False   \n1             False           False  ...  False           False   \n2              True           False  ...  False            True   \n3             False           False  ...  False           False   \n4             False           False  ...  False           False   \n\n   INFORMATION NOT AVAILABLE  Medicaid  Other  Medicare  MARRIED  SINGLE  \\\n0                      False     False   True     False    False   False   \n1                      False     False   True     False    False   False   \n2                      False     False   True     False     True   False   \n3                      False     False   True     False    False    True   \n4                      False     False   True     False    False    True   \n\n   DIVORCED  WIDOWED  \n0     False    False  \n1     False    False  \n2     False    False  \n3     False    False  \n4     False    False  \n\n[5 rows x 37 columns]",
      "text/html": "<div>\n<style scoped>\n    .dataframe tbody tr th:only-of-type {\n        vertical-align: middle;\n    }\n\n    .dataframe tbody tr th {\n        vertical-align: top;\n    }\n\n    .dataframe thead th {\n        text-align: right;\n    }\n</style>\n<table border=\"1\" class=\"dataframe\">\n  <thead>\n    <tr style=\"text-align: right;\">\n      <th></th>\n      <th>admittime</th>\n      <th>gender</th>\n      <th>anchor_age</th>\n      <th>anchor_year</th>\n      <th>icd_code_count</th>\n      <th>emar_count</th>\n      <th>emar_medications</th>\n      <th>lab_count</th>\n      <th>has_kidney_issue</th>\n      <th>EU OBSERVATION</th>\n      <th>...</th>\n      <th>PACU</th>\n      <th>EMERGENCY ROOM</th>\n      <th>INFORMATION NOT AVAILABLE</th>\n      <th>Medicaid</th>\n      <th>Other</th>\n      <th>Medicare</th>\n      <th>MARRIED</th>\n      <th>SINGLE</th>\n      <th>DIVORCED</th>\n      <th>WIDOWED</th>\n    </tr>\n  </thead>\n  <tbody>\n    <tr>\n      <th>0</th>\n      <td>2171-02-15 11:02:00</td>\n      <td>False</td>\n      <td>0</td>\n      <td>2171</td>\n      <td>3</td>\n      <td>&lt;NA&gt;</td>\n      <td>[]</td>\n      <td>6</td>\n      <td>False</td>\n      <td>False</td>\n      <td>...</td>\n      <td>False</td>\n      <td>False</td>\n      <td>False</td>\n      <td>False</td>\n      <td>True</td>\n      <td>False</td>\n      <td>False</td>\n      <td>False</td>\n      <td>False</td>\n      <td>False</td>\n    </tr>\n    <tr>\n      <th>1</th>\n      <td>2182-10-08 03:33:00</td>\n      <td>False</td>\n      <td>0</td>\n      <td>2182</td>\n      <td>3</td>\n      <td>&lt;NA&gt;</td>\n      <td>[]</td>\n      <td>3</td>\n      <td>False</td>\n      <td>False</td>\n      <td>...</td>\n      <td>False</td>\n      <td>False</td>\n      <td>False</td>\n      <td>False</td>\n      <td>True</td>\n      <td>False</td>\n      <td>False</td>\n      <td>False</td>\n      <td>False</td>\n      <td>False</td>\n    </tr>\n    <tr>\n      <th>2</th>\n      <td>2147-05-08 20:52:00</td>\n      <td>False</td>\n      <td>60</td>\n      <td>2143</td>\n      <td>11</td>\n      <td>&lt;NA&gt;</td>\n      <td>[]</td>\n      <td>98</td>\n      <td>True</td>\n      <td>False</td>\n      <td>...</td>\n      <td>False</td>\n      <td>True</td>\n      <td>False</td>\n      <td>False</td>\n      <td>True</td>\n      <td>False</td>\n      <td>True</td>\n      <td>False</td>\n      <td>False</td>\n      <td>False</td>\n    </tr>\n    <tr>\n      <th>3</th>\n      <td>2142-01-18 16:37:00</td>\n      <td>False</td>\n      <td>25</td>\n      <td>2142</td>\n      <td>8</td>\n      <td>49</td>\n      <td>[Heparin, LamoTRIgine, LevETIRAcetam, OXcarbaz...</td>\n      <td>75</td>\n      <td>False</td>\n      <td>False</td>\n      <td>...</td>\n      <td>False</td>\n      <td>False</td>\n      <td>False</td>\n      <td>False</td>\n      <td>True</td>\n      <td>False</td>\n      <td>False</td>\n      <td>True</td>\n      <td>False</td>\n      <td>False</td>\n    </tr>\n    <tr>\n      <th>4</th>\n      <td>2167-11-03 03:27:00</td>\n      <td>False</td>\n      <td>0</td>\n      <td>2167</td>\n      <td>9</td>\n      <td>&lt;NA&gt;</td>\n      <td>[]</td>\n      <td>102</td>\n      <td>False</td>\n      <td>False</td>\n      <td>...</td>\n      <td>False</td>\n      <td>False</td>\n      <td>False</td>\n      <td>False</td>\n      <td>True</td>\n      <td>False</td>\n      <td>False</td>\n      <td>True</td>\n      <td>False</td>\n      <td>False</td>\n    </tr>\n  </tbody>\n</table>\n<p>5 rows × 37 columns</p>\n</div>"
     },
     "execution_count": 13,
     "metadata": {},
     "output_type": "execute_result"
    }
   ],
   "source": [
    "ethn_list = getLiterals(ethn_list, ['emar_medications'])\n",
    "ethn_list[0].head()"
   ],
   "metadata": {
    "collapsed": false,
    "pycharm": {
     "name": "#%%\n"
    }
   }
  },
  {
   "cell_type": "code",
   "execution_count": 14,
   "outputs": [],
   "source": [
    "kidney_medications = getUniquesInList(ethn_list, 'emar_medications')\n",
    "kidney_medications = list(kidney_medications)\n",
    "\n",
    "#med_count = countMeds(ethn_list)\n",
    "#med_count = np.array(med_count)\n",
    "# np.savetxt('med_frequency.csv', med_count, delimiter=\",\")\n",
    "med_count = np.genfromtxt('med_frequency.csv', delimiter=\",\")\n",
    "\n"
   ],
   "metadata": {
    "collapsed": false,
    "pycharm": {
     "name": "#%%\n"
    }
   }
  },
  {
   "cell_type": "code",
   "execution_count": 15,
   "outputs": [],
   "source": [
    "# N most frequent meds\n",
    "N = 5\n",
    "\n",
    "inds = np.argsort(med_count)\n",
    "most_frequent = inds[-1]\n",
    "most_frequent = np.append(most_frequent, inds[-3])\n",
    "most_frequent = np.append(most_frequent, inds[-(N+2):-4])\n",
    "\n",
    "freq_med_names = []\n",
    "\n",
    "for item in most_frequent:\n",
    "    freq_med_names.append(kidney_medications[item])\n"
   ],
   "metadata": {
    "collapsed": false,
    "pycharm": {
     "name": "#%%\n"
    }
   }
  },
  {
   "cell_type": "code",
   "execution_count": 16,
   "outputs": [
    {
     "name": "stdout",
     "output_type": "stream",
     "text": [
      "['Gas-X', 'Triamterene-Hydrochlorothiazide (37.5/25)', 'Fleet Enema', 'Midazolam Intradermal', 'Myrbetriq']\n"
     ]
    }
   ],
   "source": [
    "print(freq_med_names)"
   ],
   "metadata": {
    "collapsed": false,
    "pycharm": {
     "name": "#%%\n"
    }
   }
  },
  {
   "cell_type": "code",
   "execution_count": 17,
   "outputs": [
    {
     "data": {
      "text/plain": "            admittime  gender  anchor_age  anchor_year  icd_code_count  \\\n0 2171-02-15 11:02:00   False           0         2171               3   \n1 2182-10-08 03:33:00   False           0         2182               3   \n2 2147-05-08 20:52:00   False          60         2143              11   \n3 2142-01-18 16:37:00   False          25         2142               8   \n4 2167-11-03 03:27:00   False           0         2167               9   \n\n   emar_count  lab_count  has_kidney_issue  EU OBSERVATION  ELECTIVE  ...  \\\n0        <NA>          6             False           False      True  ...   \n1        <NA>          3             False           False      True  ...   \n2        <NA>         98              True           False     False  ...   \n3          49         75             False           False     False  ...   \n4        <NA>        102             False           False      True  ...   \n\n   Medicare  MARRIED  SINGLE  DIVORCED  WIDOWED  Gas-X  \\\n0     False    False   False     False    False  False   \n1     False    False   False     False    False  False   \n2     False     True   False     False    False  False   \n3     False    False    True     False    False  False   \n4     False    False    True     False    False  False   \n\n   Triamterene-Hydrochlorothiazide (37.5/25)  Fleet Enema  \\\n0                                      False        False   \n1                                      False        False   \n2                                      False        False   \n3                                      False        False   \n4                                      False        False   \n\n   Midazolam Intradermal  Myrbetriq  \n0                  False      False  \n1                  False      False  \n2                  False      False  \n3                  False      False  \n4                  False      False  \n\n[5 rows x 41 columns]",
      "text/html": "<div>\n<style scoped>\n    .dataframe tbody tr th:only-of-type {\n        vertical-align: middle;\n    }\n\n    .dataframe tbody tr th {\n        vertical-align: top;\n    }\n\n    .dataframe thead th {\n        text-align: right;\n    }\n</style>\n<table border=\"1\" class=\"dataframe\">\n  <thead>\n    <tr style=\"text-align: right;\">\n      <th></th>\n      <th>admittime</th>\n      <th>gender</th>\n      <th>anchor_age</th>\n      <th>anchor_year</th>\n      <th>icd_code_count</th>\n      <th>emar_count</th>\n      <th>lab_count</th>\n      <th>has_kidney_issue</th>\n      <th>EU OBSERVATION</th>\n      <th>ELECTIVE</th>\n      <th>...</th>\n      <th>Medicare</th>\n      <th>MARRIED</th>\n      <th>SINGLE</th>\n      <th>DIVORCED</th>\n      <th>WIDOWED</th>\n      <th>Gas-X</th>\n      <th>Triamterene-Hydrochlorothiazide (37.5/25)</th>\n      <th>Fleet Enema</th>\n      <th>Midazolam Intradermal</th>\n      <th>Myrbetriq</th>\n    </tr>\n  </thead>\n  <tbody>\n    <tr>\n      <th>0</th>\n      <td>2171-02-15 11:02:00</td>\n      <td>False</td>\n      <td>0</td>\n      <td>2171</td>\n      <td>3</td>\n      <td>&lt;NA&gt;</td>\n      <td>6</td>\n      <td>False</td>\n      <td>False</td>\n      <td>True</td>\n      <td>...</td>\n      <td>False</td>\n      <td>False</td>\n      <td>False</td>\n      <td>False</td>\n      <td>False</td>\n      <td>False</td>\n      <td>False</td>\n      <td>False</td>\n      <td>False</td>\n      <td>False</td>\n    </tr>\n    <tr>\n      <th>1</th>\n      <td>2182-10-08 03:33:00</td>\n      <td>False</td>\n      <td>0</td>\n      <td>2182</td>\n      <td>3</td>\n      <td>&lt;NA&gt;</td>\n      <td>3</td>\n      <td>False</td>\n      <td>False</td>\n      <td>True</td>\n      <td>...</td>\n      <td>False</td>\n      <td>False</td>\n      <td>False</td>\n      <td>False</td>\n      <td>False</td>\n      <td>False</td>\n      <td>False</td>\n      <td>False</td>\n      <td>False</td>\n      <td>False</td>\n    </tr>\n    <tr>\n      <th>2</th>\n      <td>2147-05-08 20:52:00</td>\n      <td>False</td>\n      <td>60</td>\n      <td>2143</td>\n      <td>11</td>\n      <td>&lt;NA&gt;</td>\n      <td>98</td>\n      <td>True</td>\n      <td>False</td>\n      <td>False</td>\n      <td>...</td>\n      <td>False</td>\n      <td>True</td>\n      <td>False</td>\n      <td>False</td>\n      <td>False</td>\n      <td>False</td>\n      <td>False</td>\n      <td>False</td>\n      <td>False</td>\n      <td>False</td>\n    </tr>\n    <tr>\n      <th>3</th>\n      <td>2142-01-18 16:37:00</td>\n      <td>False</td>\n      <td>25</td>\n      <td>2142</td>\n      <td>8</td>\n      <td>49</td>\n      <td>75</td>\n      <td>False</td>\n      <td>False</td>\n      <td>False</td>\n      <td>...</td>\n      <td>False</td>\n      <td>False</td>\n      <td>True</td>\n      <td>False</td>\n      <td>False</td>\n      <td>False</td>\n      <td>False</td>\n      <td>False</td>\n      <td>False</td>\n      <td>False</td>\n    </tr>\n    <tr>\n      <th>4</th>\n      <td>2167-11-03 03:27:00</td>\n      <td>False</td>\n      <td>0</td>\n      <td>2167</td>\n      <td>9</td>\n      <td>&lt;NA&gt;</td>\n      <td>102</td>\n      <td>False</td>\n      <td>False</td>\n      <td>True</td>\n      <td>...</td>\n      <td>False</td>\n      <td>False</td>\n      <td>True</td>\n      <td>False</td>\n      <td>False</td>\n      <td>False</td>\n      <td>False</td>\n      <td>False</td>\n      <td>False</td>\n      <td>False</td>\n    </tr>\n  </tbody>\n</table>\n<p>5 rows × 41 columns</p>\n</div>"
     },
     "execution_count": 17,
     "metadata": {},
     "output_type": "execute_result"
    }
   ],
   "source": [
    "def oneHotMeds(dfs, meds):\n",
    "    for med in meds:\n",
    "        for df in range(len(dfs)):\n",
    "            dfs[df][med] = False\n",
    "            for row in dfs[df].itertuples():\n",
    "                dfs[df].at[row.Index, med] = med in row.emar_medications\n",
    "    dfs = dropCols(dfs, ['emar_medications'])\n",
    "    return dfs\n",
    "\n",
    "ethn_list = oneHotMeds(ethn_list, freq_med_names)\n",
    "ethn_list[0].head()"
   ],
   "metadata": {
    "collapsed": false,
    "pycharm": {
     "name": "#%%\n"
    }
   }
  },
  {
   "cell_type": "code",
   "execution_count": 18,
   "outputs": [],
   "source": [
    "for df in ethn_list:\n",
    "    df['admittime'] = pd.to_numeric(pd.to_datetime(df['admittime']))\n",
    "    df['icd_code_count'] = df['icd_code_count'].fillna(0)\n",
    "    #df['icd_code_count'] = df['icd_code_count'].astype(int)\n",
    "    df['emar_count'] = df['emar_count'].fillna(0)\n",
    "    # df['emar_count'] = df['emar_count'].astype(int)\n",
    "    df['lab_count'] = df['lab_count'].fillna(0)"
   ],
   "metadata": {
    "collapsed": false,
    "pycharm": {
     "name": "#%%\n"
    }
   }
  },
  {
   "cell_type": "markdown",
   "source": [
    "### Abnormal lab flags\n",
    "The 'lab_flag' column is processed by counting the number of abnormal states\n",
    "\n",
    "EDIT: lab_flag column is dropped as its information is already encoded as lab_count"
   ],
   "metadata": {
    "collapsed": false,
    "pycharm": {
     "name": "#%% md\n"
    }
   }
  },
  {
   "cell_type": "code",
   "execution_count": 19,
   "outputs": [],
   "source": [
    "def countAbnormal(dfs):\n",
    "    for df in range(len(dfs)):\n",
    "        for row in dfs[df].itertuples():\n",
    "                print(row.lab_flag.count('abnormal'))\n",
    "                # dfs[df].at[row.Index, 'lab_flag'] = row.lab_flag.count('abnormal')\n",
    "    return dfs"
   ],
   "metadata": {
    "collapsed": false,
    "pycharm": {
     "name": "#%%\n"
    }
   }
  },
  {
   "cell_type": "code",
   "execution_count": 19,
   "outputs": [],
   "source": [],
   "metadata": {
    "collapsed": false,
    "pycharm": {
     "name": "#%%\n"
    }
   }
  },
  {
   "cell_type": "code",
   "execution_count": 20,
   "outputs": [
    {
     "data": {
      "text/plain": "             admittime  gender  anchor_age  anchor_year  icd_code_count  \\\n0  6346897320000000000   False           0         2171               3   \n1  6714329580000000000   False           0         2182               3   \n2  5596635120000000000   False          60         2143              11   \n3  5429349420000000000   False          25         2142               8   \n4  6243190020000000000   False           0         2167               9   \n\n   emar_count  lab_count  has_kidney_issue  EU OBSERVATION  ELECTIVE  ...  \\\n0           0          6             False           False      True  ...   \n1           0          3             False           False      True  ...   \n2           0         98              True           False     False  ...   \n3          49         75             False           False     False  ...   \n4           0        102             False           False      True  ...   \n\n   Medicare  MARRIED  SINGLE  DIVORCED  WIDOWED  Gas-X  \\\n0     False    False   False     False    False  False   \n1     False    False   False     False    False  False   \n2     False     True   False     False    False  False   \n3     False    False    True     False    False  False   \n4     False    False    True     False    False  False   \n\n   Triamterene-Hydrochlorothiazide (37.5/25)  Fleet Enema  \\\n0                                      False        False   \n1                                      False        False   \n2                                      False        False   \n3                                      False        False   \n4                                      False        False   \n\n   Midazolam Intradermal  Myrbetriq  \n0                  False      False  \n1                  False      False  \n2                  False      False  \n3                  False      False  \n4                  False      False  \n\n[5 rows x 41 columns]",
      "text/html": "<div>\n<style scoped>\n    .dataframe tbody tr th:only-of-type {\n        vertical-align: middle;\n    }\n\n    .dataframe tbody tr th {\n        vertical-align: top;\n    }\n\n    .dataframe thead th {\n        text-align: right;\n    }\n</style>\n<table border=\"1\" class=\"dataframe\">\n  <thead>\n    <tr style=\"text-align: right;\">\n      <th></th>\n      <th>admittime</th>\n      <th>gender</th>\n      <th>anchor_age</th>\n      <th>anchor_year</th>\n      <th>icd_code_count</th>\n      <th>emar_count</th>\n      <th>lab_count</th>\n      <th>has_kidney_issue</th>\n      <th>EU OBSERVATION</th>\n      <th>ELECTIVE</th>\n      <th>...</th>\n      <th>Medicare</th>\n      <th>MARRIED</th>\n      <th>SINGLE</th>\n      <th>DIVORCED</th>\n      <th>WIDOWED</th>\n      <th>Gas-X</th>\n      <th>Triamterene-Hydrochlorothiazide (37.5/25)</th>\n      <th>Fleet Enema</th>\n      <th>Midazolam Intradermal</th>\n      <th>Myrbetriq</th>\n    </tr>\n  </thead>\n  <tbody>\n    <tr>\n      <th>0</th>\n      <td>6346897320000000000</td>\n      <td>False</td>\n      <td>0</td>\n      <td>2171</td>\n      <td>3</td>\n      <td>0</td>\n      <td>6</td>\n      <td>False</td>\n      <td>False</td>\n      <td>True</td>\n      <td>...</td>\n      <td>False</td>\n      <td>False</td>\n      <td>False</td>\n      <td>False</td>\n      <td>False</td>\n      <td>False</td>\n      <td>False</td>\n      <td>False</td>\n      <td>False</td>\n      <td>False</td>\n    </tr>\n    <tr>\n      <th>1</th>\n      <td>6714329580000000000</td>\n      <td>False</td>\n      <td>0</td>\n      <td>2182</td>\n      <td>3</td>\n      <td>0</td>\n      <td>3</td>\n      <td>False</td>\n      <td>False</td>\n      <td>True</td>\n      <td>...</td>\n      <td>False</td>\n      <td>False</td>\n      <td>False</td>\n      <td>False</td>\n      <td>False</td>\n      <td>False</td>\n      <td>False</td>\n      <td>False</td>\n      <td>False</td>\n      <td>False</td>\n    </tr>\n    <tr>\n      <th>2</th>\n      <td>5596635120000000000</td>\n      <td>False</td>\n      <td>60</td>\n      <td>2143</td>\n      <td>11</td>\n      <td>0</td>\n      <td>98</td>\n      <td>True</td>\n      <td>False</td>\n      <td>False</td>\n      <td>...</td>\n      <td>False</td>\n      <td>True</td>\n      <td>False</td>\n      <td>False</td>\n      <td>False</td>\n      <td>False</td>\n      <td>False</td>\n      <td>False</td>\n      <td>False</td>\n      <td>False</td>\n    </tr>\n    <tr>\n      <th>3</th>\n      <td>5429349420000000000</td>\n      <td>False</td>\n      <td>25</td>\n      <td>2142</td>\n      <td>8</td>\n      <td>49</td>\n      <td>75</td>\n      <td>False</td>\n      <td>False</td>\n      <td>False</td>\n      <td>...</td>\n      <td>False</td>\n      <td>False</td>\n      <td>True</td>\n      <td>False</td>\n      <td>False</td>\n      <td>False</td>\n      <td>False</td>\n      <td>False</td>\n      <td>False</td>\n      <td>False</td>\n    </tr>\n    <tr>\n      <th>4</th>\n      <td>6243190020000000000</td>\n      <td>False</td>\n      <td>0</td>\n      <td>2167</td>\n      <td>9</td>\n      <td>0</td>\n      <td>102</td>\n      <td>False</td>\n      <td>False</td>\n      <td>True</td>\n      <td>...</td>\n      <td>False</td>\n      <td>False</td>\n      <td>True</td>\n      <td>False</td>\n      <td>False</td>\n      <td>False</td>\n      <td>False</td>\n      <td>False</td>\n      <td>False</td>\n      <td>False</td>\n    </tr>\n  </tbody>\n</table>\n<p>5 rows × 41 columns</p>\n</div>"
     },
     "execution_count": 20,
     "metadata": {},
     "output_type": "execute_result"
    }
   ],
   "source": [
    "ethn_list[0].head()"
   ],
   "metadata": {
    "collapsed": false,
    "pycharm": {
     "name": "#%%\n"
    }
   }
  },
  {
   "cell_type": "code",
   "execution_count": 21,
   "outputs": [
    {
     "name": "stdout",
     "output_type": "stream",
     "text": [
      "0\n",
      "1\n",
      "2\n",
      "3\n",
      "4\n",
      "5\n",
      "6\n",
      "7\n"
     ]
    }
   ],
   "source": [
    "df_name = ['american_indian_alaska_native', 'asian', 'black_african_american', 'hispanic_latino', 'other', 'unable_to_obtain', 'unknown', 'white']\n",
    "\n",
    "for df in range(len(ethn_list)):\n",
    "    print(df)\n",
    "    ethn_list[df].to_csv(\"data/preprocessing_III/\" + df_name[df] + \".csv\")\n"
   ],
   "metadata": {
    "collapsed": false,
    "pycharm": {
     "name": "#%%\n"
    }
   }
  },
  {
   "cell_type": "code",
   "execution_count": 21,
   "outputs": [],
   "source": [],
   "metadata": {
    "collapsed": false,
    "pycharm": {
     "name": "#%%\n"
    }
   }
  }
 ],
 "metadata": {
  "kernelspec": {
   "display_name": "Python 3",
   "language": "python",
   "name": "python3"
  },
  "language_info": {
   "codemirror_mode": {
    "name": "ipython",
    "version": 2
   },
   "file_extension": ".py",
   "mimetype": "text/x-python",
   "name": "python",
   "nbconvert_exporter": "python",
   "pygments_lexer": "ipython2",
   "version": "2.7.6"
  }
 },
 "nbformat": 4,
 "nbformat_minor": 0
}